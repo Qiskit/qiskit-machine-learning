{
 "cells": [
  {
   "cell_type": "markdown",
   "id": "equivalent-affiliate",
   "metadata": {},
   "source": [
    "# Torch Connector\n",
    "\n",
    "This tutorial shows how the `TorchConnector` allows to use any `NeuralNetwork` from Qiskit Machine Learning and integrate it in a PyTorch workflow. The `TorchConnector` takes any `NeuralNetwork` and makes it available as a PyTorch `Module`.\n",
    "\n",
    "### Content:\n",
    "\n",
    "#### Part 1: Simple Classification & Regression\n",
    "- Classification\n",
    "    - Classification with PyTorch and the `OpflowQNN`\n",
    "    - Classification with PyTorch and the `CircuitQNN`\n",
    "- Regression\n",
    "    - Regression with PyTorch and the `OpflowQNN`\n",
    "\n",
    "#### Part 2: MNIST Classification\n",
    "\n",
    "Illustrates how to embed a (Quantum) `NeuralNetwork` into a larget PyTorch workflow to classify MNIST data."
   ]
  },
  {
   "cell_type": "code",
   "execution_count": 1,
   "id": "indirect-crime",
   "metadata": {},
   "outputs": [],
   "source": [
    "import numpy as np\n",
    "import matplotlib.pyplot as plt\n",
    "\n",
    "from torch import Tensor\n",
    "from torch.nn import Linear, CrossEntropyLoss, MSELoss\n",
    "from torch.optim import LBFGS\n",
    "\n",
    "from qiskit  import Aer, QuantumCircuit\n",
    "from qiskit.utils import QuantumInstance\n",
    "from qiskit.opflow import AerPauliExpectation\n",
    "from qiskit.circuit import Parameter\n",
    "from qiskit.circuit.library import RealAmplitudes, ZZFeatureMap\n",
    "from qiskit_machine_learning.neural_networks import CircuitQNN, TwoLayerQNN\n",
    "from qiskit_machine_learning.connectors import TorchConnector\n",
    "\n",
    "qi = QuantumInstance(Aer.get_backend('statevector_simulator'))"
   ]
  },
  {
   "cell_type": "markdown",
   "id": "interested-laundry",
   "metadata": {},
   "source": [
    "# Part 1: Simple Classification & Regression"
   ]
  },
  {
   "cell_type": "markdown",
   "id": "educational-beverage",
   "metadata": {},
   "source": [
    "## Classification\n",
    "\n",
    "First, we show how the `TorchConnector` can be used to use a Quantum `NeuralNetwork` to solve a classification tasks. Therefore, we generate a simple random data set."
   ]
  },
  {
   "cell_type": "code",
   "execution_count": 2,
   "id": "stuffed-quantity",
   "metadata": {},
   "outputs": [
    {
     "data": {
      "image/png": "[encoded data removed]",
      "text/plain": [
       "<Figure size 432x288 with 1 Axes>"
      ]
     },
     "metadata": {
      "needs_background": "light"
     },
     "output_type": "display_data"
    }
   ],
   "source": [
    "num_inputs = 2\n",
    "num_samples = 20\n",
    "X = 2*np.random.rand(num_samples, num_inputs) - 1\n",
    "y01 = 1*(np.sum(X, axis=1) >= 0)  # in { 0,  1}\n",
    "y = 2*y01-1                       # in {-1, +1}\n",
    "\n",
    "X_ = Tensor(X)\n",
    "y01_ = Tensor(y01).reshape(len(y)).long()\n",
    "y_ = Tensor(y).reshape(len(y), 1)\n",
    "\n",
    "for x, y_target in zip(X, y):\n",
    "    if y_target == 1:\n",
    "        plt.plot(x[0], x[1], 'bo')\n",
    "    else:\n",
    "        plt.plot(x[0], x[1], 'go')\n",
    "plt.plot([-1, 1], [1, -1], '--', color='black')\n",
    "plt.show()"
   ]
  },
  {
   "cell_type": "markdown",
   "id": "concerned-stream",
   "metadata": {},
   "source": [
    "### Classification with PyTorch and the `OpflowQNN`\n",
    "\n",
    "Linking an `OpflowQNN` to PyTorch is relatively straight-forward. Here we illustrate this using the `TwoLayerQNN`."
   ]
  },
  {
   "cell_type": "code",
   "execution_count": 3,
   "id": "excellent-reward",
   "metadata": {},
   "outputs": [],
   "source": [
    "# set up QNN\n",
    "qnn1 = TwoLayerQNN(num_qubits=num_inputs, quantum_instance=qi)\n",
    "\n",
    "# set up PyTorch module\n",
    "initial_weights = 0.1*(2*np.random.rand(qnn1.num_weights) - 1)\n",
    "model1 = TorchConnector(qnn1, initial_weights=initial_weights)"
   ]
  },
  {
   "cell_type": "code",
   "execution_count": 4,
   "id": "secure-health",
   "metadata": {},
   "outputs": [
    {
     "data": {
      "text/plain": [
       "tensor([-0.2949], grad_fn=<_TorchNNFunctionBackward>)"
      ]
     },
     "execution_count": 4,
     "metadata": {},
     "output_type": "execute_result"
    }
   ],
   "source": [
    "# test with a single input\n",
    "model1(X_[0, :])"
   ]
  },
  {
   "cell_type": "code",
   "execution_count": null,
   "id": "expanded-syndication",
   "metadata": {},
   "outputs": [
    {
     "name": "stdout",
     "output_type": "stream",
     "text": [
      "19.592493057250977\n",
      "17.31513214111328\n",
      "17.475332260131836\n",
      "16.81917953491211\n",
      "16.67049217224121\n"
     ]
    }
   ],
   "source": [
    "# define optimizer and loss\n",
    "optimizer = LBFGS(model1.parameters())\n",
    "f_loss = MSELoss(reduction='sum')\n",
    "\n",
    "# start training\n",
    "model1.train()   # set model to training mode\n",
    "\n",
    "# define objective function\n",
    "def closure():\n",
    "    optimizer.zero_grad()          # initialize gradient\n",
    "    loss = f_loss(model1(X_), y_)  # evaluate loss function\n",
    "    loss.backward()                # backward pass\n",
    "    print(loss.item())             # print loss\n",
    "    return loss\n",
    "\n",
    "# run optimizer\n",
    "optimizer.step(closure)"
   ]
  },
  {
   "cell_type": "code",
   "execution_count": null,
   "id": "occasional-wagon",
   "metadata": {},
   "outputs": [],
   "source": [
    "# evaluate model and compute accuracy\n",
    "y_predict = []\n",
    "for x, y_target in zip(X, y):\n",
    "    output = model1(Tensor(x))\n",
    "    y_predict += [np.sign(output.detach().numpy())[0]]\n",
    "\n",
    "print('Accuracy:', sum(y_predict == y)/len(y))\n",
    "\n",
    "# plot results\n",
    "# red == wrongly classified\n",
    "for x, y_target, y_p in zip(X, y, y_predict):\n",
    "    if y_target == 1:\n",
    "        plt.plot(x[0], x[1], 'bo')\n",
    "    else:\n",
    "        plt.plot(x[0], x[1], 'go')\n",
    "    if y_target != y_p:\n",
    "        plt.scatter(x[0], x[1], s=200, facecolors='none', edgecolors='r', linewidths=2)\n",
    "plt.plot([-1, 1], [1, -1], '--', color='black')\n",
    "plt.show()"
   ]
  },
  {
   "cell_type": "markdown",
   "id": "moral-berry",
   "metadata": {},
   "source": [
    "The red circles indicate wrongly classified data points."
   ]
  },
  {
   "cell_type": "markdown",
   "id": "false-solid",
   "metadata": {},
   "source": [
    "### Classification with PyTorch and the `CircuitQNN`\n",
    "\n",
    "Linking an `CircuitQNN` to PyTorch requires the correct setup, otherwise backpropagation is not possible."
   ]
  },
  {
   "cell_type": "code",
   "execution_count": null,
   "id": "descending-clearance",
   "metadata": {},
   "outputs": [],
   "source": [
    "feature_map = ZZFeatureMap(num_inputs)\n",
    "var_form = RealAmplitudes(num_inputs, entanglement='linear', reps=1)\n",
    "\n",
    "qc = QuantumCircuit(num_inputs)\n",
    "qc.append(feature_map, range(num_inputs))\n",
    "qc.append(var_form, range(num_inputs))\n",
    "\n",
    "parity = lambda x: '{:b}'.format(x).count('1') % 2\n",
    "output_shape = 2  # parity = 0, 1\n",
    "\n",
    "qnn2 = CircuitQNN(qc, input_params=feature_map.parameters, weight_params=var_form.parameters, \n",
    "                  interpret=parity, output_shape=output_shape, quantum_instance=qi)\n",
    "\n",
    "# set up PyTorch module\n",
    "initial_weights = 0.1*(2*np.random.rand(qnn2.num_weights) - 1)\n",
    "model2 = TorchConnector(qnn2, initial_weights)"
   ]
  },
  {
   "cell_type": "code",
   "execution_count": null,
   "id": "controlled-alliance",
   "metadata": {},
   "outputs": [],
   "source": [
    "# define model, optimizer, and loss\n",
    "optimizer = LBFGS(model2.parameters())\n",
    "f_loss = CrossEntropyLoss()\n",
    "\n",
    "# start training\n",
    "model2.train()    \n",
    "def closure():\n",
    "    optimizer.zero_grad(set_to_none=True)                  # initialize gradient\n",
    "    \n",
    "    loss = 0.0                                             # initialize loss    \n",
    "    for x, y_target in zip(X, y01):                        # evaluate batch loss\n",
    "        output = model2(Tensor(x)).reshape(1, 2)           # forward pass\n",
    "        loss += f_loss(output, Tensor([y_target]).long())  # calculate loss\n",
    "        \n",
    "    loss.backward()                                        # backward pass\n",
    "    \n",
    "    print(loss.item())                                     # print loss\n",
    "    return loss\n",
    "\n",
    "# run optimizer (LBFGS requires closure)\n",
    "optimizer.step(closure);"
   ]
  },
  {
   "cell_type": "code",
   "execution_count": null,
   "id": "everyday-seating",
   "metadata": {},
   "outputs": [],
   "source": [
    "# evaluate model and compute accuracy\n",
    "y_predict = []\n",
    "for x in X:\n",
    "    output = model2(Tensor(x))\n",
    "    y_predict += [np.argmax(output.detach().numpy())]\n",
    "\n",
    "print('Accuracy:', sum(y_predict == y01)/len(y01))\n",
    "\n",
    "# plot results\n",
    "# red == wrongly classified\n",
    "for x, y_target, y_ in zip(X, y01, y_predict):\n",
    "    if y_target == 1:\n",
    "        plt.plot(x[0], x[1], 'bo')\n",
    "    else:\n",
    "        plt.plot(x[0], x[1], 'go')\n",
    "    if y_target != y_:\n",
    "        plt.scatter(x[0], x[1], s=200, facecolors='none', edgecolors='r', linewidths=2)\n",
    "plt.plot([-1, 1], [1, -1], '--', color='black')\n",
    "plt.show()"
   ]
  },
  {
   "cell_type": "markdown",
   "id": "single-family",
   "metadata": {},
   "source": [
    "## Regression \n",
    "\n",
    "We use a model based on the `TwoLayerQNN` to also illsutrate an regression task."
   ]
  },
  {
   "cell_type": "code",
   "execution_count": null,
   "id": "finished-barbados",
   "metadata": {},
   "outputs": [],
   "source": [
    "num_samples = 20\n",
    "eps = 0.2\n",
    "lb, ub = -np.pi, np.pi\n",
    "f = lambda x: np.sin(x)\n",
    "\n",
    "X = (ub - lb)*np.random.rand(num_samples, 1) + lb\n",
    "y = f(X) + eps*(2*np.random.rand(num_samples, 1)-1)\n",
    "plt.plot(np.linspace(lb, ub), f(np.linspace(lb, ub)), 'r--')\n",
    "plt.plot(X, y, 'bo')\n",
    "plt.show()"
   ]
  },
  {
   "cell_type": "code",
   "execution_count": null,
   "id": "wanted-classification",
   "metadata": {},
   "outputs": [],
   "source": [
    "# construct simple feature map\n",
    "param_x = Parameter('x')\n",
    "feature_map = QuantumCircuit(1, name='fm')\n",
    "feature_map.ry(param_x, 0)\n",
    "\n",
    "# construct simple feature map\n",
    "param_y = Parameter('y')\n",
    "var_form = QuantumCircuit(1, name='vf')\n",
    "var_form.ry(param_y, 0)\n",
    "\n",
    "# construct QNN\n",
    "qnn3 = TwoLayerQNN(1, feature_map, var_form, quantum_instance=qi)\n",
    "print(qnn3.operator)\n",
    "\n",
    "# set up PyTorch module\n",
    "initial_weights = 0.1*(2*np.random.rand(qnn3.num_weights) - 1)\n",
    "model3 = TorchConnector(qnn3, initial_weights)"
   ]
  },
  {
   "cell_type": "code",
   "execution_count": null,
   "id": "given-basket",
   "metadata": {},
   "outputs": [],
   "source": [
    "# define optimizer and loss function\n",
    "optimizer = LBFGS(model3.parameters())\n",
    "f_loss = MSELoss(reduction='sum')\n",
    "\n",
    "# start training\n",
    "model3.train()   # set model to training mode\n",
    "\n",
    "# define objective function\n",
    "def closure():\n",
    "    optimizer.zero_grad(set_to_none=True)        # initialize gradient\n",
    "    loss = f_loss(model3(Tensor(X)), Tensor(y))  # compute batch loss\n",
    "    loss.backward()                              # backward pass    \n",
    "    print(loss.item())                           # print loss\n",
    "    return loss\n",
    "\n",
    "# run optimizer\n",
    "optimizer.step(closure)"
   ]
  },
  {
   "cell_type": "code",
   "execution_count": null,
   "id": "about-standard",
   "metadata": {},
   "outputs": [],
   "source": [
    "# plot target function\n",
    "plt.plot(np.linspace(lb, ub), f(np.linspace(lb, ub)), 'r--')\n",
    "\n",
    "# plot data\n",
    "plt.plot(X, y, 'bo')\n",
    "\n",
    "# plot fitted line\n",
    "y_ = []\n",
    "for x in np.linspace(lb, ub):\n",
    "    output = model3(Tensor([x]))\n",
    "    y_ += [output.detach().numpy()[0]]\n",
    "plt.plot(np.linspace(lb, ub), y_, 'g-')\n",
    "plt.show()"
   ]
  },
  {
   "cell_type": "markdown",
   "id": "robust-fifth",
   "metadata": {},
   "source": [
    "# Part 2: MNIST Example \n",
    "Also see Qiskit Textbook: https://qiskit.org/textbook/ch-machine-learning/machine-learning-qiskit-pytorch.html"
   ]
  },
  {
   "cell_type": "code",
   "execution_count": null,
   "id": "interior-yugoslavia",
   "metadata": {},
   "outputs": [],
   "source": [
    "from torch import cat, no_grad \n",
    "from torch.utils.data import DataLoader\n",
    "from torchvision import datasets, transforms\n",
    "import torch.optim as optim\n",
    "from torch.nn import (Module, Conv2d, Linear, Dropout2d, NLLLoss, \n",
    "                     MaxPool2d, Flatten, Sequential, ReLU)\n",
    "import torch.nn.functional as F"
   ]
  },
  {
   "cell_type": "code",
   "execution_count": null,
   "id": "anticipated-polish",
   "metadata": {},
   "outputs": [],
   "source": [
    "# Concentrating on the first 100 samples\n",
    "batch_size = 1\n",
    "n_samples = 100\n",
    "\n",
    "X_train = datasets.MNIST(root='./data', train=True, download=True,\n",
    "                         transform=transforms.Compose([transforms.ToTensor()]))\n",
    "\n",
    "# Leaving only labels 0 and 1 \n",
    "idx = np.append(np.where(X_train.targets == 0)[0][:n_samples], \n",
    "                np.where(X_train.targets == 1)[0][:n_samples])\n",
    "\n",
    "X_train.data = X_train.data[idx]\n",
    "X_train.targets = X_train.targets[idx]\n",
    "\n",
    "train_loader = DataLoader(X_train, batch_size=batch_size, shuffle=True)"
   ]
  },
  {
   "cell_type": "code",
   "execution_count": null,
   "id": "familiar-indication",
   "metadata": {},
   "outputs": [],
   "source": [
    "n_samples_show = 6\n",
    "\n",
    "data_iter = iter(train_loader)\n",
    "fig, axes = plt.subplots(nrows=1, ncols=n_samples_show, figsize=(10, 3))\n",
    "\n",
    "while n_samples_show > 0:\n",
    "    images, targets = data_iter.__next__()\n",
    "\n",
    "    axes[n_samples_show - 1].imshow(images[0, 0].numpy().squeeze(), cmap='gray')\n",
    "    axes[n_samples_show - 1].set_xticks([])\n",
    "    axes[n_samples_show - 1].set_yticks([])\n",
    "    axes[n_samples_show - 1].set_title(\"Labeled: {}\".format(targets[0].item()))\n",
    "    \n",
    "    n_samples_show -= 1"
   ]
  },
  {
   "cell_type": "code",
   "execution_count": null,
   "id": "pediatric-making",
   "metadata": {},
   "outputs": [],
   "source": [
    "n_samples = 50\n",
    "\n",
    "X_test = datasets.MNIST(root='./data', train=False, download=True,\n",
    "                        transform=transforms.Compose([transforms.ToTensor()]))\n",
    "\n",
    "idx = np.append(np.where(X_test.targets == 0)[0][:n_samples], \n",
    "                np.where(X_test.targets == 1)[0][:n_samples])\n",
    "\n",
    "X_test.data = X_test.data[idx]\n",
    "X_test.targets = X_test.targets[idx]\n",
    "\n",
    "test_loader = DataLoader(X_test, batch_size=batch_size, shuffle=True)"
   ]
  },
  {
   "cell_type": "code",
   "execution_count": null,
   "id": "cross-inflation",
   "metadata": {},
   "outputs": [],
   "source": [
    "# define QNN\n",
    "feature_map = ZZFeatureMap(2)\n",
    "var_form = RealAmplitudes(2, reps=1)\n",
    "qnn4 = TwoLayerQNN(2, feature_map, var_form, exp_val=AerPauliExpectation(), quantum_instance=qi)\n",
    "print(qnn4.operator)"
   ]
  },
  {
   "cell_type": "code",
   "execution_count": null,
   "id": "behind-northern",
   "metadata": {},
   "outputs": [],
   "source": [
    "class Net(Module):\n",
    "    \n",
    "    def __init__(self):\n",
    "        super().__init__()\n",
    "        self.conv1 = Conv2d(1, 2, kernel_size=5)\n",
    "        self.conv2 = Conv2d(2, 16, kernel_size=5)\n",
    "        self.dropout = Dropout2d()\n",
    "        self.fc1 = Linear(256, 64)\n",
    "        self.fc2 = Linear(64, 1)         # 2-dimensional input to QNN\n",
    "        self.qnn = TorchConnector(qnn4)  # \n",
    "        self.fc3 = Linear(1, 1)          # 1-dimensional output from QNN\n",
    "\n",
    "    def forward(self, x):\n",
    "        x = F.relu(self.conv1(x))\n",
    "        x = F.max_pool2d(x, 2)\n",
    "        x = F.relu(self.conv2(x))\n",
    "        x = F.max_pool2d(x, 2)\n",
    "        x = self.dropout(x)\n",
    "        x = x.view(1, -1)\n",
    "        x = F.relu(self.fc1(x))\n",
    "        x = self.fc2(x)\n",
    "        x = self.qnn(x)  # apply QNN\n",
    "        x = self.fc3(x)\n",
    "        return cat((x, 1 - x), -1)\n",
    "    \n",
    "model4 = Net()"
   ]
  },
  {
   "cell_type": "code",
   "execution_count": null,
   "id": "compact-tribute",
   "metadata": {},
   "outputs": [],
   "source": [
    "# define model, optimizer, and loss function\n",
    "optimizer = optim.Adam(model4.parameters(), lr=0.001)\n",
    "loss_func = NLLLoss()\n",
    "\n",
    "# start training\n",
    "epochs = 10     # set number of epochs\n",
    "loss_list = []  # store loss history\n",
    "model4.train()  # set model to training mode\n",
    "for epoch in range(epochs):\n",
    "    total_loss = []\n",
    "    for batch_idx, (data, target) in enumerate(train_loader):        \n",
    "        optimizer.zero_grad(set_to_none=True)  # initialize gradient\n",
    "        output = model4(data)                   # forward pass\n",
    "        if len(output.shape) == 1:\n",
    "            output = output.reshape(1, *output.shape)\n",
    "        loss = loss_func(output, target)       # calculate loss\n",
    "        loss.backward()                        # backward pass\n",
    "        optimizer.step()                       # optimize weights\n",
    "        total_loss.append(loss.item())         # store loss    \n",
    "    loss_list.append(sum(total_loss)/len(total_loss))    \n",
    "    print('Training [{:.0f}%]\\tLoss: {:.4f}'.format(\n",
    "        100. * (epoch + 1) / epochs, loss_list[-1]))"
   ]
  },
  {
   "cell_type": "code",
   "execution_count": null,
   "id": "increased-reminder",
   "metadata": {},
   "outputs": [],
   "source": [
    "plt.plot(loss_list)\n",
    "plt.title('Hybrid NN Training Convergence')\n",
    "plt.xlabel('Training Iterations')\n",
    "plt.ylabel('Neg. Log Likelihood Loss')\n",
    "plt.show()"
   ]
  },
  {
   "cell_type": "code",
   "execution_count": null,
   "id": "combined-edgar",
   "metadata": {},
   "outputs": [],
   "source": [
    "model4.eval()  # set model to evaluation mode\n",
    "with no_grad():\n",
    "    \n",
    "    correct = 0\n",
    "    for batch_idx, (data, target) in enumerate(test_loader):\n",
    "        output = model4(data)\n",
    "        if len(output.shape) == 1:\n",
    "            output = output.reshape(1, *output.shape)\n",
    "        \n",
    "        pred = output.argmax(dim=1, keepdim=True) \n",
    "        correct += pred.eq(target.view_as(pred)).sum().item()\n",
    "        \n",
    "        loss = loss_func(output, target)\n",
    "        total_loss.append(loss.item())\n",
    "        \n",
    "    print('Performance on test data:\\n\\tLoss: {:.4f}\\n\\tAccuracy: {:.1f}%'\n",
    "          .format(sum(total_loss) / len(total_loss), \n",
    "                  correct / len(test_loader) / batch_size * 100)\n",
    "    )"
   ]
  },
  {
   "cell_type": "code",
   "execution_count": null,
   "id": "earlier-century",
   "metadata": {},
   "outputs": [],
   "source": [
    "n_samples_show = 6\n",
    "count = 0\n",
    "fig, axes = plt.subplots(nrows=1, ncols=n_samples_show, figsize=(10, 3))\n",
    "\n",
    "model4.eval()\n",
    "with no_grad():\n",
    "    for batch_idx, (data, target) in enumerate(test_loader):\n",
    "        if count == n_samples_show:\n",
    "            break\n",
    "        output = model4(data[0:1])\n",
    "        if len(output.shape) == 1:\n",
    "            output = output.reshape(1, *output.shape)\n",
    "        \n",
    "        pred = output.argmax(dim=1, keepdim=True) \n",
    "\n",
    "        axes[count].imshow(data[0].numpy().squeeze(), cmap='gray')\n",
    "\n",
    "        axes[count].set_xticks([])\n",
    "        axes[count].set_yticks([])\n",
    "        axes[count].set_title('Predicted {}'.format(pred.item()))\n",
    "        \n",
    "        count += 1"
   ]
  },
  {
   "cell_type": "code",
   "execution_count": null,
   "id": "great-nancy",
   "metadata": {},
   "outputs": [],
   "source": [
    "import qiskit.tools.jupyter\n",
    "%qiskit_version_table\n",
    "%qiskit_copyright"
   ]
  },
  {
   "cell_type": "code",
   "execution_count": null,
   "id": "competent-spending",
   "metadata": {},
   "outputs": [],
   "source": []
  }
 ],
 "metadata": {
  "kernelspec": {
   "display_name": "Python 3",
   "language": "python",
   "name": "python3"
  },
  "language_info": {
   "codemirror_mode": {
    "name": "ipython",
    "version": 3
   },
   "file_extension": ".py",
   "mimetype": "text/x-python",
   "name": "python",
   "nbconvert_exporter": "python",
   "pygments_lexer": "ipython3",
   "version": "3.8.8"
  }
 },
 "nbformat": 4,
 "nbformat_minor": 5
}
