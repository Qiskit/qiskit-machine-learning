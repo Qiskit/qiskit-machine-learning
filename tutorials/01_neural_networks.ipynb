{
 "cells": [
  {
   "cell_type": "markdown",
   "id": "brilliant-cross",
   "metadata": {},
   "source": [
    "# (Quantum) Neural Networks\n",
    "\n",
    "This notebook demonstrates the different generic (quantum) neural network implementations provided in Qiskit Machine Learning.\n",
    "The networks are meant as application-anostic computational units that can be used in different use cases. \n",
    "Depending on the application, a particluar type of network might more or less suitable.\n",
    "In the following, the different available networks will be discussed in more detail:\n",
    "\n",
    "1. `NeuralNetwork`: The interface for neural networks.\n",
    "2. `OpflowQNN`: A network based on the evaluation of quantum mechanical observables.\n",
    "3. `TwoLayerQNN`: A special `OpflowQNN` implementation for convenience. \n",
    "3. `CircuitQNN`: A network based on the samples resulting from measuring a quantum circuit."
   ]
  },
  {
   "cell_type": "code",
   "execution_count": 1,
   "id": "annual-engine",
   "metadata": {},
   "outputs": [],
   "source": [
    "import numpy as np\n",
    "\n",
    "from qiskit import Aer, QuantumCircuit\n",
    "from qiskit.circuit import Parameter\n",
    "from qiskit.circuit.library import RealAmplitudes, ZZFeatureMap\n",
    "from qiskit.opflow import StateFn, PauliSumOp, AerPauliExpectation, ListOp, Gradient\n",
    "from qiskit.utils import QuantumInstance"
   ]
  },
  {
   "cell_type": "code",
   "execution_count": 2,
   "id": "single-likelihood",
   "metadata": {},
   "outputs": [],
   "source": [
    "# set method to calculcate expected values\n",
    "expval = AerPauliExpectation()\n",
    "\n",
    "# define gradient method\n",
    "gradient = Gradient()\n",
    "\n",
    "# define quantum instances (statevector and sample based)\n",
    "qi_sv = QuantumInstance(Aer.get_backend('statevector_simulator'))\n",
    "qi_qasm = QuantumInstance(Aer.get_backend('qasm_simulator'), shots=100) "
   ]
  },
  {
   "cell_type": "markdown",
   "id": "roman-lindsay",
   "metadata": {},
   "source": [
    "## 1. `NeuralNetwork`\n",
    "\n",
    "The `NeuralNetwork` represents the interface for all neural networks available in Qiskit Machine Learning.\n",
    "It just exposes a forward and a backward pass taking the data samples and trainable weights as input.\n",
    "A `NeuralNetwork` does not contain any training capabilities, these are pushed to the actual algorithms / applications. Thus, a `NeuralNetwork` also does not store the values for trainable weights. In the following, different implementations of this interfaces are introduced.\n",
    "\n",
    "Suppose a `NeuralNetwork` called `nn`.\n",
    "Then, the `nn.forward(input, weights)` pass takes either flat inputs for the data and weights of size `nn.num_inputs` and `nn.num_weights`, respectively, or corresponding batches."
   ]
  },
  {
   "cell_type": "markdown",
   "id": "billion-uniform",
   "metadata": {},
   "source": [
    "## 2. `OpflowQNN`"
   ]
  },
  {
   "cell_type": "code",
   "execution_count": 3,
   "id": "separate-presence",
   "metadata": {},
   "outputs": [],
   "source": [
    "from qiskit_machine_learning.neural_networks import OpflowQNN"
   ]
  },
  {
   "cell_type": "code",
   "execution_count": 4,
   "id": "popular-artwork",
   "metadata": {},
   "outputs": [
    {
     "name": "stdout",
     "output_type": "stream",
     "text": [
      "ComposedOp([\n",
      "  OperatorMeasurement(1.0 * Z\n",
      "  + 1.0 * X),\n",
      "  CircuitStateFn(\n",
      "       ┌───┐┌────────────┐┌─────────────┐\n",
      "  q_0: ┤ H ├┤ RY(input1) ├┤ RX(weight1) ├\n",
      "       └───┘└────────────┘└─────────────┘\n",
      "  )\n",
      "])\n"
     ]
    }
   ],
   "source": [
    "# construct parametrized circuit\n",
    "params1 = [Parameter('input1'), Parameter('weight1')]\n",
    "qc1 = QuantumCircuit(1)\n",
    "qc1.h(0)\n",
    "qc1.ry(params1[0], 0)\n",
    "qc1.rx(params1[1], 0)\n",
    "qc_sfn1 = StateFn(qc1)\n",
    "\n",
    "# construct cost operator\n",
    "H1 = StateFn(PauliSumOp.from_list([('Z', 1.0), ('X', 1.0)]))\n",
    "\n",
    "# combine operator and circuit to objective function\n",
    "op1 = ~H1 @ qc_sfn1\n",
    "print(op1)"
   ]
  },
  {
   "cell_type": "code",
   "execution_count": 5,
   "id": "italian-clear",
   "metadata": {},
   "outputs": [],
   "source": [
    "# construct OpflowQNN with the operator, the input parameters, the weight parameters, \n",
    "# the expected value, gradient, and quantum instance.\n",
    "qnn1 = OpflowQNN(op1, [params1[0]], [params1[1]], expval, gradient, qi_sv)"
   ]
  },
  {
   "cell_type": "code",
   "execution_count": 6,
   "id": "forty-routine",
   "metadata": {},
   "outputs": [],
   "source": [
    "# define (random) input and weights\n",
    "input1 = np.random.rand(qnn1.num_inputs)\n",
    "weights1 = np.random.rand(qnn1.num_weights)"
   ]
  },
  {
   "cell_type": "code",
   "execution_count": 7,
   "id": "recovered-marriage",
   "metadata": {},
   "outputs": [
    {
     "data": {
      "text/plain": [
       "array(-0.11441526)"
      ]
     },
     "execution_count": 7,
     "metadata": {},
     "output_type": "execute_result"
    }
   ],
   "source": [
    "# QNN forward pass\n",
    "qnn1.forward(input1, weights1)"
   ]
  },
  {
   "cell_type": "code",
   "execution_count": 8,
   "id": "considerable-embassy",
   "metadata": {},
   "outputs": [
    {
     "data": {
      "text/plain": [
       "(array([-1.40363879]), array([0.09887327]))"
      ]
     },
     "execution_count": 8,
     "metadata": {},
     "output_type": "execute_result"
    }
   ],
   "source": [
    "# QNN backward pass\n",
    "qnn1.backward(input1, weights1)"
   ]
  },
  {
   "cell_type": "markdown",
   "id": "rational-wilson",
   "metadata": {},
   "source": [
    "<font color=\"red\">INCLUDE BATCHES...</font>"
   ]
  },
  {
   "cell_type": "markdown",
   "id": "completed-dressing",
   "metadata": {},
   "source": [
    "Combining multiple observables in a `ListOp` also allows to create more complex QNNs"
   ]
  },
  {
   "cell_type": "code",
   "execution_count": 9,
   "id": "academic-roads",
   "metadata": {},
   "outputs": [],
   "source": [
    "op2 = ListOp([op1, op1])\n",
    "qnn2 = OpflowQNN(op2, [params1[0]], [params1[1]], expval, gradient, qi_sv)"
   ]
  },
  {
   "cell_type": "code",
   "execution_count": 10,
   "id": "important-density",
   "metadata": {},
   "outputs": [
    {
     "data": {
      "text/plain": [
       "array([-0.11441526, -0.11441526])"
      ]
     },
     "execution_count": 10,
     "metadata": {},
     "output_type": "execute_result"
    }
   ],
   "source": [
    "# QNN forward pass\n",
    "qnn2.forward(input1, weights1)"
   ]
  },
  {
   "cell_type": "code",
   "execution_count": 11,
   "id": "informal-biology",
   "metadata": {},
   "outputs": [
    {
     "data": {
      "text/plain": [
       "(array([[-1.40363879],\n",
       "        [-1.40363879]]),\n",
       " array([[0.09887327],\n",
       "        [0.09887327]]))"
      ]
     },
     "execution_count": 11,
     "metadata": {},
     "output_type": "execute_result"
    }
   ],
   "source": [
    "# QNN backward pass\n",
    "qnn2.backward(input1, weights1)"
   ]
  },
  {
   "cell_type": "markdown",
   "id": "bound-hypothesis",
   "metadata": {},
   "source": [
    "## 3. `TwoLayerQNN`\n",
    "\n",
    "The `TwoLayerQNN` is a special `OpflowQNN` on $n$ qubits that consists of first a feature map to insert data and second a variational form that is trained. The default observable is $Z^{\\otimes n}$, i.e., parity."
   ]
  },
  {
   "cell_type": "code",
   "execution_count": 12,
   "id": "ready-accounting",
   "metadata": {},
   "outputs": [],
   "source": [
    "from qiskit_machine_learning.neural_networks import TwoLayerQNN"
   ]
  },
  {
   "cell_type": "code",
   "execution_count": 13,
   "id": "twelve-south",
   "metadata": {},
   "outputs": [],
   "source": [
    "# specify the number of qubits\n",
    "num_qubits = 3"
   ]
  },
  {
   "cell_type": "code",
   "execution_count": 14,
   "id": "artificial-mileage",
   "metadata": {
    "scrolled": false
   },
   "outputs": [
    {
     "data": {
      "image/png": "[encoded data removed]",
      "text/plain": [
       "<Figure size 1591.6x445.48 with 1 Axes>"
      ]
     },
     "execution_count": 14,
     "metadata": {},
     "output_type": "execute_result"
    }
   ],
   "source": [
    "# specify the feature map\n",
    "fm = ZZFeatureMap(num_qubits, reps=2)\n",
    "fm.draw(output='mpl')"
   ]
  },
  {
   "cell_type": "code",
   "execution_count": 15,
   "id": "greater-latex",
   "metadata": {},
   "outputs": [
    {
     "data": {
      "image/png": "[encoded data removed]",
      "text/plain": [
       "<Figure size 387.597x204.68 with 1 Axes>"
      ]
     },
     "execution_count": 15,
     "metadata": {},
     "output_type": "execute_result"
    }
   ],
   "source": [
    "# specify the variational form\n",
    "var_form = RealAmplitudes(num_qubits, reps=1)\n",
    "var_form.draw(output='mpl')"
   ]
  },
  {
   "cell_type": "code",
   "execution_count": 16,
   "id": "anonymous-illness",
   "metadata": {},
   "outputs": [
    {
     "name": "stdout",
     "output_type": "stream",
     "text": [
      "1.0 * ZZZ\n"
     ]
    }
   ],
   "source": [
    "# specify the observable\n",
    "observable = PauliSumOp.from_list([('Z'*num_qubits, 1)])\n",
    "print(observable)"
   ]
  },
  {
   "cell_type": "code",
   "execution_count": 17,
   "id": "novel-ownership",
   "metadata": {},
   "outputs": [],
   "source": [
    "# define two layer QNN\n",
    "qnn3 = TwoLayerQNN(num_qubits, \n",
    "                   feature_map=fm, \n",
    "                   var_form=var_form, \n",
    "                   observable=observable, quantum_instance=qi_sv)"
   ]
  },
  {
   "cell_type": "code",
   "execution_count": 18,
   "id": "patient-protocol",
   "metadata": {},
   "outputs": [],
   "source": [
    "# define (random) input and weights\n",
    "input3 = np.random.rand(qnn3.num_inputs)\n",
    "weights3 = np.random.rand(qnn3.num_weights)"
   ]
  },
  {
   "cell_type": "code",
   "execution_count": 19,
   "id": "sweet-complement",
   "metadata": {},
   "outputs": [
    {
     "data": {
      "text/plain": [
       "array(0.09968084)"
      ]
     },
     "execution_count": 19,
     "metadata": {},
     "output_type": "execute_result"
    }
   ],
   "source": [
    "# QNN forward pass\n",
    "qnn3.forward(input3, weights3)"
   ]
  },
  {
   "cell_type": "code",
   "execution_count": 20,
   "id": "golden-worcester",
   "metadata": {},
   "outputs": [
    {
     "data": {
      "text/plain": [
       "(array([-0.83005227, -3.71427661, -1.0165929 ]),\n",
       " array([-0.10379162, -0.16427914,  0.06400802, -0.09079179,  0.13462822,\n",
       "         0.14374833]))"
      ]
     },
     "execution_count": 20,
     "metadata": {},
     "output_type": "execute_result"
    }
   ],
   "source": [
    "# QNN backward pass\n",
    "qnn3.backward(input3, weights3)"
   ]
  },
  {
   "cell_type": "markdown",
   "id": "according-watch",
   "metadata": {},
   "source": [
    "## 4. `CircuitQNN`\n",
    "\n",
    "The `CircuitQNN` is just based on a (parametrized) `QuantumCircuit`. This can take input as well as weight parameters and produces samples from the measurement. The samples can either be interpreted as probabilities or directly as a batch of binary output. In the case of probabilities, gradients can be estimated efficiently and the `CircuitQNN` provides a backward pass as well. In case of samples, differentiation is not possible and the backward pass returns `(None, None)`.\n",
    "\n",
    "Further, the `CircuitQNN` allows to specify different `interpret` options for the measured samples:\n",
    "- 'int': interprets returns the measured bitstrings as integers\n",
    "- 'str': returns the measured bitstrings\n",
    "- 'tuple': returns the measured bitstrings as tuples\n",
    "- a `callable`: applies a callable to the tuple of binaries and returns the result\n",
    "\n",
    "The probabilities are then aggregated accordingly.\n",
    "\n",
    "In case of `interpret='int'` or if `interpret` is set to a callable that returns non-negative integers, the `CircuitQNN` can be configured to return a dense instead of a sparse result.\n",
    "\n",
    "<font color=\"red\">output shape / dense / return types need to be further discussed</font>\n",
    "\n",
    "<font color=\"red\">what about `return_samples`?</font>"
   ]
  },
  {
   "cell_type": "code",
   "execution_count": 21,
   "id": "posted-shoot",
   "metadata": {},
   "outputs": [],
   "source": [
    "from qiskit_machine_learning.neural_networks import CircuitQNN"
   ]
  },
  {
   "cell_type": "code",
   "execution_count": 22,
   "id": "acceptable-standing",
   "metadata": {},
   "outputs": [
    {
     "data": {
      "image/png": "[encoded data removed]",
      "text/plain": [
       "<Figure size 327.397x204.68 with 1 Axes>"
      ]
     },
     "execution_count": 22,
     "metadata": {},
     "output_type": "execute_result"
    }
   ],
   "source": [
    "qc = RealAmplitudes(num_qubits, entanglement='linear', reps=1)\n",
    "qc.draw(output='mpl')"
   ]
  },
  {
   "cell_type": "markdown",
   "id": "extra-ebony",
   "metadata": {},
   "source": [
    "### 4.1 Output: sparse integer probabilities"
   ]
  },
  {
   "cell_type": "code",
   "execution_count": 23,
   "id": "indoor-disorder",
   "metadata": {},
   "outputs": [],
   "source": [
    "# specify circuit QNN\n",
    "qnn4 = CircuitQNN(qc, [], qc.parameters, interpret='int', dense=False, quantum_instance=qi_qasm)"
   ]
  },
  {
   "cell_type": "code",
   "execution_count": 24,
   "id": "beneficial-summary",
   "metadata": {},
   "outputs": [],
   "source": [
    "# define (random) input and weights\n",
    "input4 = np.random.rand(qnn4.num_inputs)\n",
    "weights4 = np.random.rand(qnn4.num_weights)"
   ]
  },
  {
   "cell_type": "code",
   "execution_count": 25,
   "id": "jewish-elements",
   "metadata": {},
   "outputs": [
    {
     "data": {
      "text/plain": [
       "{5: 0.01, 6: 0.26, 1: 0.12, 4: 0.15, 7: 0.2, 2: 0.03, 0: 0.23}"
      ]
     },
     "execution_count": 25,
     "metadata": {},
     "output_type": "execute_result"
    }
   ],
   "source": [
    "# QNN forward pass\n",
    "import os\n",
    "os.environ['QISKIT_IN_PARALLEL'] = 'TRUE'\n",
    "qnn4.forward(input4, weights4)"
   ]
  },
  {
   "cell_type": "code",
   "execution_count": 26,
   "id": "entitled-reaction",
   "metadata": {
    "scrolled": true
   },
   "outputs": [
    {
     "data": {
      "text/plain": [
       "([],\n",
       " [{0: -0.1282815741458147,\n",
       "   1: 0.06650750981862542,\n",
       "   2: -0.006273059496000748,\n",
       "   3: -0.0004513907663595627,\n",
       "   4: -0.03638247623629842,\n",
       "   5: -0.010101324096631482,\n",
       "   6: -0.22357413390544345,\n",
       "   7: 0.3385564488279228},\n",
       "  {0: -0.14391111033753262,\n",
       "   1: 0.00988664428160219,\n",
       "   2: -0.03136101166943031,\n",
       "   3: -0.0009677830393487862,\n",
       "   4: -0.2505462404184589,\n",
       "   5: -0.008722853121063563,\n",
       "   6: 0.3291809068111871,\n",
       "   7: 0.09644144749304498},\n",
       "  {0: -0.33514647904020817,\n",
       "   1: -0.11186602518307846,\n",
       "   2: 0.015074719334181011,\n",
       "   3: 0.014051587634039403,\n",
       "   4: 0.21439313097607793,\n",
       "   5: 0.04156560699850315,\n",
       "   6: 0.10567862872994926,\n",
       "   7: 0.05624883055053591},\n",
       "  {0: -0.15240460330618066,\n",
       "   1: 0.15240460330618066,\n",
       "   2: -0.010219212006670097,\n",
       "   3: 0.010219212006670104,\n",
       "   4: -0.06707845434984035,\n",
       "   5: 0.06707845434984036,\n",
       "   6: -0.19964935378020152,\n",
       "   7: 0.19964935378020146},\n",
       "  {0: -0.08432533296703731,\n",
       "   1: -0.018469597417268717,\n",
       "   2: 0.08432533296703731,\n",
       "   3: 0.018469597417268696,\n",
       "   4: -0.20082019768324375,\n",
       "   5: -0.06668736620130221,\n",
       "   6: 0.2008201976832438,\n",
       "   7: 0.06668736620130222},\n",
       "  {0: -0.22404610681718398,\n",
       "   1: -0.04562929198283698,\n",
       "   2: -0.07558368354047626,\n",
       "   3: -0.02699337975744419,\n",
       "   4: 0.224046106817184,\n",
       "   5: 0.04562929198283698,\n",
       "   6: 0.07558368354047625,\n",
       "   7: 0.02699337975744421}])"
      ]
     },
     "execution_count": 26,
     "metadata": {},
     "output_type": "execute_result"
    }
   ],
   "source": [
    "# QNN backward pass\n",
    "qnn4.backward(input4, weights4)"
   ]
  },
  {
   "cell_type": "markdown",
   "id": "changing-midwest",
   "metadata": {},
   "source": [
    "### 4.2 Output: sparse string probabilities"
   ]
  },
  {
   "cell_type": "code",
   "execution_count": 27,
   "id": "virgin-picnic",
   "metadata": {},
   "outputs": [],
   "source": [
    "# specify circuit QNN\n",
    "qnn5 = CircuitQNN(qc, [], qc.parameters, interpret='str', dense=False, quantum_instance=qi_qasm)"
   ]
  },
  {
   "cell_type": "code",
   "execution_count": 28,
   "id": "occupied-australia",
   "metadata": {},
   "outputs": [],
   "source": [
    "# define (random) input and weights\n",
    "input5 = np.random.rand(qnn5.num_inputs)\n",
    "weights5 = np.random.rand(qnn5.num_weights)"
   ]
  },
  {
   "cell_type": "code",
   "execution_count": 29,
   "id": "spanish-optics",
   "metadata": {},
   "outputs": [
    {
     "data": {
      "text/plain": [
       "{'011': 0.03,\n",
       " '111': 0.06,\n",
       " '010': 0.03,\n",
       " '000': 0.7,\n",
       " '110': 0.01,\n",
       " '100': 0.14,\n",
       " '001': 0.03}"
      ]
     },
     "execution_count": 29,
     "metadata": {},
     "output_type": "execute_result"
    }
   ],
   "source": [
    "# QNN forward pass\n",
    "qnn5.forward(input5, weights5)"
   ]
  },
  {
   "cell_type": "code",
   "execution_count": 30,
   "id": "composite-cruise",
   "metadata": {
    "scrolled": true
   },
   "outputs": [
    {
     "data": {
      "text/plain": [
       "([],\n",
       " [{'000': -0.15031221719492155,\n",
       "   '001': -0.007095122793739544,\n",
       "   '010': -0.021587819178638955,\n",
       "   '011': 0.027764019155198702,\n",
       "   '100': -0.014437150241974325,\n",
       "   '101': -0.0005595604249144567,\n",
       "   '110': -0.016615164464482256,\n",
       "   '111': 0.1828430151434723},\n",
       "  {'000': -0.12092513064806137,\n",
       "   '001': 0.018599590200240403,\n",
       "   '010': 0.06327862665899371,\n",
       "   '011': 0.008043112710184864,\n",
       "   '100': -0.09283597970774575,\n",
       "   '101': 9.905754001451514e-05,\n",
       "   '110': 0.09591029181650804,\n",
       "   '111': 0.027830431429865656},\n",
       "  {'000': -0.31038726906528724,\n",
       "   '001': -0.011741731791612543,\n",
       "   '010': -0.018971701671926793,\n",
       "   '011': 0.016939237291813077,\n",
       "   '100': 0.3049278646734836,\n",
       "   '101': 0.0003523154027181754,\n",
       "   '110': 0.024431106063730335,\n",
       "   '111': -0.005549820902918716},\n",
       "  {'000': -0.09746867056055891,\n",
       "   '001': 0.09746867056055888,\n",
       "   '010': -0.022447281613245884,\n",
       "   '011': 0.022447281613245884,\n",
       "   '100': -0.000852507606809931,\n",
       "   '101': 0.000852507606809938,\n",
       "   '110': -0.022222346630411685,\n",
       "   '111': 0.02222234663041168},\n",
       "  {'000': -0.2022776998105359,\n",
       "   '001': -0.01081635147419051,\n",
       "   '010': 0.2022776998105359,\n",
       "   '011': 0.01081635147419051,\n",
       "   '100': -0.03816361115492401,\n",
       "   '101': -0.0004964079386169107,\n",
       "   '110': 0.03816361115492401,\n",
       "   '111': 0.0004964079386169107},\n",
       "  {'000': -0.30410301105027593,\n",
       "   '001': -0.0002732389356867957,\n",
       "   '010': -0.025384975486498835,\n",
       "   '011': -0.019650650172395225,\n",
       "   '100': 0.30410301105027593,\n",
       "   '101': 0.0002732389356867966,\n",
       "   '110': 0.02538497548649884,\n",
       "   '111': 0.019650650172395225}])"
      ]
     },
     "execution_count": 30,
     "metadata": {},
     "output_type": "execute_result"
    }
   ],
   "source": [
    "# QNN backward pass\n",
    "qnn5.backward(input5, weights5)"
   ]
  },
  {
   "cell_type": "markdown",
   "id": "happy-glossary",
   "metadata": {},
   "source": [
    "### 4.3 Output: dense parity probabilities"
   ]
  },
  {
   "cell_type": "code",
   "execution_count": 31,
   "id": "potential-database",
   "metadata": {},
   "outputs": [],
   "source": [
    "# specify circuit QNN\n",
    "parity = lambda x: np.sum(x) % 2\n",
    "output_shape = 2  # this is required in case of a callable with dense output\n",
    "qnn6 = CircuitQNN(qc, [], qc.parameters, interpret=parity, dense=True, output_shape=output_shape,\n",
    "                  quantum_instance=qi_qasm)"
   ]
  },
  {
   "cell_type": "code",
   "execution_count": 32,
   "id": "pending-series",
   "metadata": {},
   "outputs": [],
   "source": [
    "# define (random) input and weights\n",
    "input6 = np.random.rand(qnn6.num_inputs)\n",
    "weights6 = np.random.rand(qnn6.num_weights)"
   ]
  },
  {
   "cell_type": "code",
   "execution_count": 33,
   "id": "driven-stomach",
   "metadata": {},
   "outputs": [
    {
     "data": {
      "text/plain": [
       "array([0.6, 0.4])"
      ]
     },
     "execution_count": 33,
     "metadata": {},
     "output_type": "execute_result"
    }
   ],
   "source": [
    "# QNN forward pass\n",
    "qnn6.forward(input6, weights6)"
   ]
  },
  {
   "cell_type": "code",
   "execution_count": 34,
   "id": "lightweight-federation",
   "metadata": {
    "scrolled": true
   },
   "outputs": [
    {
     "data": {
      "text/plain": [
       "(array([], shape=(2, 0), dtype=float64),\n",
       " array([[-0.09843214,  0.1240463 , -0.42541124, -0.06185354,  0.03103966,\n",
       "         -0.37083658],\n",
       "        [ 0.09843214, -0.1240463 ,  0.42541124,  0.06185354, -0.03103966,\n",
       "          0.37083658]]))"
      ]
     },
     "execution_count": 34,
     "metadata": {},
     "output_type": "execute_result"
    }
   ],
   "source": [
    "# QNN backward pass\n",
    "qnn6.backward(input6, weights6)"
   ]
  },
  {
   "cell_type": "markdown",
   "id": "limited-blast",
   "metadata": {},
   "source": [
    "### 4.4 Output: dense samples"
   ]
  },
  {
   "cell_type": "code",
   "execution_count": 35,
   "id": "apart-algebra",
   "metadata": {},
   "outputs": [],
   "source": [
    "# specify circuit QNN\n",
    "qnn7 = CircuitQNN(qc, [], qc.parameters, interpret='int', return_samples=True,\n",
    "                  quantum_instance=qi_qasm)"
   ]
  },
  {
   "cell_type": "code",
   "execution_count": 36,
   "id": "laughing-techno",
   "metadata": {},
   "outputs": [],
   "source": [
    "# define (random) input and weights\n",
    "input7 = np.random.rand(qnn7.num_inputs)\n",
    "weights7 = np.random.rand(qnn7.num_weights)"
   ]
  },
  {
   "cell_type": "code",
   "execution_count": 37,
   "id": "everyday-norwegian",
   "metadata": {},
   "outputs": [
    {
     "data": {
      "text/plain": [
       "array([1, 3, 0, 0, 0, 0, 0, 0, 0, 1, 1, 2, 7, 0, 0, 0, 7, 0, 0, 0, 0, 0,\n",
       "       0, 7, 0, 0, 7, 0, 1, 0, 0, 7, 0, 1, 1, 0, 1, 0, 1, 7, 0, 1, 0, 0,\n",
       "       6, 2, 2, 1, 0, 0, 1, 0, 0, 0, 7, 0, 7, 0, 2, 0, 0, 7, 0, 0, 0, 0,\n",
       "       1, 7, 7, 1, 0, 6, 0, 7, 4, 0, 0, 4, 1, 7, 0, 0, 6, 0, 1, 1, 0, 0,\n",
       "       0, 0, 0, 2, 7, 7, 4, 0, 6, 2, 7, 0])"
      ]
     },
     "execution_count": 37,
     "metadata": {},
     "output_type": "execute_result"
    }
   ],
   "source": [
    "# QNN forward pass\n",
    "qnn7.forward(input7, weights7)"
   ]
  },
  {
   "cell_type": "code",
   "execution_count": 38,
   "id": "balanced-korea",
   "metadata": {},
   "outputs": [
    {
     "data": {
      "text/plain": [
       "(None, None)"
      ]
     },
     "execution_count": 38,
     "metadata": {},
     "output_type": "execute_result"
    }
   ],
   "source": [
    "# QNN backward pass\n",
    "qnn7.backward(input7, weights7)"
   ]
  },
  {
   "cell_type": "code",
   "execution_count": 39,
   "id": "appointed-shirt",
   "metadata": {},
   "outputs": [
    {
     "data": {
      "text/html": [
       "<h3>Version Information</h3><table><tr><th>Qiskit Software</th><th>Version</th></tr><tr><td>Qiskit</td><td>None</td></tr><tr><td>Terra</td><td>0.17.0.dev0+fb6830c</td></tr><tr><td>Aer</td><td>0.8.0</td></tr><tr><td>Ignis</td><td>0.6.0.dev0+6103f99</td></tr><tr><td>Aqua</td><td>None</td></tr><tr><td>IBM Q Provider</td><td>0.12.0.dev0+8f3168b</td></tr><tr><th>System information</th></tr><tr><td>Python</td><td>3.7.9 (default, Aug 31 2020, 07:22:35) \n",
       "[Clang 10.0.0 ]</td></tr><tr><td>OS</td><td>Darwin</td></tr><tr><td>CPUs</td><td>2</td></tr><tr><td>Memory (Gb)</td><td>12.0</td></tr><tr><td colspan='2'>Wed Mar 17 10:39:05 2021 EDT</td></tr></table>"
      ],
      "text/plain": [
       "<IPython.core.display.HTML object>"
      ]
     },
     "metadata": {},
     "output_type": "display_data"
    },
    {
     "data": {
      "text/html": [
       "<div style='width: 100%; background-color:#d5d9e0;padding-left: 10px; padding-bottom: 10px; padding-right: 10px; padding-top: 5px'><h3>This code is a part of Qiskit</h3><p>&copy; Copyright IBM 2017, 2021.</p><p>This code is licensed under the Apache License, Version 2.0. You may<br>obtain a copy of this license in the LICENSE.txt file in the root directory<br> of this source tree or at http://www.apache.org/licenses/LICENSE-2.0.<p>Any modifications or derivative works of this code must retain this<br>copyright notice, and modified files need to carry a notice indicating<br>that they have been altered from the originals.</p></div>"
      ],
      "text/plain": [
       "<IPython.core.display.HTML object>"
      ]
     },
     "metadata": {},
     "output_type": "display_data"
    }
   ],
   "source": [
    "import qiskit.tools.jupyter\n",
    "%qiskit_version_table\n",
    "%qiskit_copyright"
   ]
  },
  {
   "cell_type": "code",
   "execution_count": null,
   "id": "extensive-prescription",
   "metadata": {},
   "outputs": [],
   "source": []
  }
 ],
 "metadata": {
  "kernelspec": {
   "display_name": "Python 3",
   "language": "python",
   "name": "python3"
  },
  "language_info": {
   "codemirror_mode": {
    "name": "ipython",
    "version": 3
   },
   "file_extension": ".py",
   "mimetype": "text/x-python",
   "name": "python",
   "nbconvert_exporter": "python",
   "pygments_lexer": "ipython3",
   "version": "3.7.9"
  }
 },
 "nbformat": 4,
 "nbformat_minor": 5
}
