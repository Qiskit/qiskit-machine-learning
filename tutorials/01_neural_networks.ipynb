{
 "cells": [
  {
   "cell_type": "markdown",
   "id": "reduced-twist",
   "metadata": {},
   "source": [
    "# (Quantum) Neural Networks\n",
    "\n",
    "This notebook demonstrates the different generic (quantum) neural network implementations provided in Qiskit Machine Learning.\n",
    "The networks are meant as application-anostic computational units that can be used in different use cases. \n",
    "Depending on the application, a particluar type of network might more or less suitable.\n",
    "In the following, the different available networks will be discussed in more detail:\n",
    "\n",
    "1. `NeuralNetwork`: The interface for neural networks.\n",
    "2. `OpflowQNN`: A network based on the evaluation of quantum mechanical observables.\n",
    "3. `TwoLayerQNN`: A special `OpflowQNN` implementation for convenience. \n",
    "3. `CircuitQNN`: A network based on the samples resulting from measuring a quantum circuit."
   ]
  },
  {
   "cell_type": "code",
   "execution_count": 1,
   "id": "engaging-webster",
   "metadata": {},
   "outputs": [],
   "source": [
    "import numpy as np\n",
    "\n",
    "from qiskit import Aer, QuantumCircuit\n",
    "from qiskit.circuit import Parameter\n",
    "from qiskit.circuit.library import RealAmplitudes, ZZFeatureMap\n",
    "from qiskit.opflow import StateFn, PauliSumOp, AerPauliExpectation, ListOp, Gradient\n",
    "from qiskit.utils import QuantumInstance"
   ]
  },
  {
   "cell_type": "code",
   "execution_count": 2,
   "id": "civilian-argentina",
   "metadata": {},
   "outputs": [],
   "source": [
    "# set method to calculcate expected values\n",
    "expval = AerPauliExpectation()\n",
    "\n",
    "# define gradient method\n",
    "gradient = Gradient()\n",
    "\n",
    "# define quantum instances (statevector and sample based)\n",
    "qi_sv = QuantumInstance(Aer.get_backend('statevector_simulator'))\n",
    "qi_qasm = QuantumInstance(Aer.get_backend('qasm_simulator'), shots=100) "
   ]
  },
  {
   "cell_type": "markdown",
   "id": "decimal-grain",
   "metadata": {},
   "source": [
    "## 1. `NeuralNetwork`\n",
    "\n",
    "The `NeuralNetwork` represents the interface for all neural networks available in Qiskit Machine Learning.\n",
    "It just exposes a forward and a backward pass taking the data samples and trainable weights as input.\n",
    "A `NeuralNetwork` does not contain any training capabilities, these are pushed to the actual algorithms / applications. Thus, a `NeuralNetwork` also does not store the values for trainable weights. In the following, different implementations of this interfaces are introduced.\n",
    "\n",
    "Suppose a `NeuralNetwork` called `nn`.\n",
    "Then, the `nn.forward(input, weights)` pass takes either flat inputs for the data and weights of size `nn.num_inputs` and `nn.num_weights`, respectively, or corresponding batches."
   ]
  },
  {
   "cell_type": "markdown",
   "id": "failing-nevada",
   "metadata": {},
   "source": [
    "## 2. `OpflowQNN`"
   ]
  },
  {
   "cell_type": "code",
   "execution_count": 3,
   "id": "planned-advertising",
   "metadata": {},
   "outputs": [],
   "source": [
    "from qiskit_machine_learning.neural_networks import OpflowQNN"
   ]
  },
  {
   "cell_type": "code",
   "execution_count": 4,
   "id": "sustained-worthy",
   "metadata": {},
   "outputs": [
    {
     "name": "stdout",
     "output_type": "stream",
     "text": [
      "ComposedOp([\n",
      "  OperatorMeasurement(1.0 * Z\n",
      "  + 1.0 * X),\n",
      "  CircuitStateFn(\n",
      "       ┌───┐┌────────────┐┌─────────────┐\n",
      "  q_0: ┤ H ├┤ RY(input1) ├┤ RX(weight1) ├\n",
      "       └───┘└────────────┘└─────────────┘\n",
      "  )\n",
      "])\n"
     ]
    }
   ],
   "source": [
    "# construct parametrized circuit\n",
    "params1 = [Parameter('input1'), Parameter('weight1')]\n",
    "qc1 = QuantumCircuit(1)\n",
    "qc1.h(0)\n",
    "qc1.ry(params1[0], 0)\n",
    "qc1.rx(params1[1], 0)\n",
    "qc_sfn1 = StateFn(qc1)\n",
    "\n",
    "# construct cost operator\n",
    "H1 = StateFn(PauliSumOp.from_list([('Z', 1.0), ('X', 1.0)]))\n",
    "\n",
    "# combine operator and circuit to objective function\n",
    "op1 = ~H1 @ qc_sfn1\n",
    "print(op1)"
   ]
  },
  {
   "cell_type": "code",
   "execution_count": 5,
   "id": "aboriginal-brazil",
   "metadata": {},
   "outputs": [],
   "source": [
    "# construct OpflowQNN with the operator, the input parameters, the weight parameters, \n",
    "# the expected value, gradient, and quantum instance.\n",
    "qnn1 = OpflowQNN(op1, [params1[0]], [params1[1]], expval, gradient, qi_sv)"
   ]
  },
  {
   "cell_type": "code",
   "execution_count": 6,
   "id": "completed-vienna",
   "metadata": {},
   "outputs": [],
   "source": [
    "# define (random) input and weights\n",
    "input1 = np.random.rand(qnn1.num_inputs)\n",
    "weights1 = np.random.rand(qnn1.num_weights)"
   ]
  },
  {
   "cell_type": "code",
   "execution_count": 7,
   "id": "suffering-triangle",
   "metadata": {},
   "outputs": [
    {
     "data": {
      "text/plain": [
       "array(0.53161359)"
      ]
     },
     "execution_count": 7,
     "metadata": {},
     "output_type": "execute_result"
    }
   ],
   "source": [
    "# QNN forward pass\n",
    "qnn1.forward(input1, weights1)"
   ]
  },
  {
   "cell_type": "code",
   "execution_count": 8,
   "id": "ancient-appointment",
   "metadata": {},
   "outputs": [
    {
     "data": {
      "text/plain": [
       "(array([-1.26545673]), array([0.13841381]))"
      ]
     },
     "execution_count": 8,
     "metadata": {},
     "output_type": "execute_result"
    }
   ],
   "source": [
    "# QNN backward pass\n",
    "qnn1.backward(input1, weights1)"
   ]
  },
  {
   "cell_type": "markdown",
   "id": "looking-animation",
   "metadata": {},
   "source": [
    "<font color=\"red\">INCLUDE BATCHES...</font>"
   ]
  },
  {
   "cell_type": "markdown",
   "id": "accepting-fitness",
   "metadata": {},
   "source": [
    "Combining multiple observables in a `ListOp` also allows to create more complex QNNs"
   ]
  },
  {
   "cell_type": "code",
   "execution_count": 9,
   "id": "proof-richardson",
   "metadata": {},
   "outputs": [],
   "source": [
    "op2 = ListOp([op1, op1])\n",
    "qnn2 = OpflowQNN(op2, [params1[0]], [params1[1]], expval, gradient, qi_sv)"
   ]
  },
  {
   "cell_type": "code",
   "execution_count": 10,
   "id": "rapid-alliance",
   "metadata": {},
   "outputs": [
    {
     "data": {
      "text/plain": [
       "array([0.53161359, 0.53161359])"
      ]
     },
     "execution_count": 10,
     "metadata": {},
     "output_type": "execute_result"
    }
   ],
   "source": [
    "# QNN forward pass\n",
    "qnn2.forward(input1, weights1)"
   ]
  },
  {
   "cell_type": "code",
   "execution_count": 11,
   "id": "collective-underground",
   "metadata": {},
   "outputs": [
    {
     "data": {
      "text/plain": [
       "(array([[-1.26545673],\n",
       "        [-1.26545673]]),\n",
       " array([[0.13841381],\n",
       "        [0.13841381]]))"
      ]
     },
     "execution_count": 11,
     "metadata": {},
     "output_type": "execute_result"
    }
   ],
   "source": [
    "# QNN backward pass\n",
    "qnn2.backward(input1, weights1)"
   ]
  },
  {
   "cell_type": "markdown",
   "id": "lonely-inventory",
   "metadata": {},
   "source": [
    "## 3. `TwoLayerQNN`\n",
    "\n",
    "The `TwoLayerQNN` is a special `OpflowQNN` on $n$ qubits that consists of first a feature map to insert data and second a variational form that is trained. The default observable is $Z^{\\otimes n}$, i.e., parity."
   ]
  },
  {
   "cell_type": "code",
   "execution_count": 12,
   "id": "furnished-floor",
   "metadata": {},
   "outputs": [],
   "source": [
    "from qiskit_machine_learning.neural_networks import TwoLayerQNN"
   ]
  },
  {
   "cell_type": "code",
   "execution_count": 13,
   "id": "developing-church",
   "metadata": {},
   "outputs": [],
   "source": [
    "# specify the number of qubits\n",
    "num_qubits = 3"
   ]
  },
  {
   "cell_type": "code",
   "execution_count": 14,
   "id": "ideal-preparation",
   "metadata": {
    "scrolled": false
   },
   "outputs": [
    {
     "name": "stdout",
     "output_type": "stream",
     "text": [
      "     ┌───┐┌─────────────┐                                               »\n",
      "q_0: ┤ H ├┤ P(2.0*x[0]) ├──■────────────────────────────────────■────■──»\n",
      "     ├───┤├─────────────┤┌─┴─┐┌──────────────────────────────┐┌─┴─┐  │  »\n",
      "q_1: ┤ H ├┤ P(2.0*x[1]) ├┤ X ├┤ P(2.0*(π - x[0])*(π - x[1])) ├┤ X ├──┼──»\n",
      "     ├───┤├─────────────┤└───┘└──────────────────────────────┘└───┘┌─┴─┐»\n",
      "q_2: ┤ H ├┤ P(2.0*x[2]) ├──────────────────────────────────────────┤ X ├»\n",
      "     └───┘└─────────────┘                                          └───┘»\n",
      "«                                          ┌───┐»\n",
      "«q_0: ──────────────────────────────────■──┤ H ├»\n",
      "«                                       │  └───┘»\n",
      "«q_1: ──────────────────────────────────┼────■──»\n",
      "«     ┌──────────────────────────────┐┌─┴─┐┌─┴─┐»\n",
      "«q_2: ┤ P(2.0*(π - x[0])*(π - x[2])) ├┤ X ├┤ X ├»\n",
      "«     └──────────────────────────────┘└───┘└───┘»\n",
      "«             ┌─────────────┐                                       »\n",
      "«q_0: ────────┤ P(2.0*x[0]) ├────────────────────────────────────■──»\n",
      "«             └─────────────┘              ┌───┐┌─────────────┐┌─┴─┐»\n",
      "«q_1: ──────────────────────────────────■──┤ H ├┤ P(2.0*x[1]) ├┤ X ├»\n",
      "«     ┌──────────────────────────────┐┌─┴─┐├───┤├─────────────┤└───┘»\n",
      "«q_2: ┤ P(2.0*(π - x[1])*(π - x[2])) ├┤ X ├┤ H ├┤ P(2.0*x[2]) ├─────»\n",
      "«     └──────────────────────────────┘└───┘└───┘└─────────────┘     »\n",
      "«                                               »\n",
      "«q_0: ──────────────────────────────────■────■──»\n",
      "«     ┌──────────────────────────────┐┌─┴─┐  │  »\n",
      "«q_1: ┤ P(2.0*(π - x[0])*(π - x[1])) ├┤ X ├──┼──»\n",
      "«     └──────────────────────────────┘└───┘┌─┴─┐»\n",
      "«q_2: ─────────────────────────────────────┤ X ├»\n",
      "«                                          └───┘»\n",
      "«                                               »\n",
      "«q_0: ──────────────────────────────────■───────»\n",
      "«                                       │       »\n",
      "«q_1: ──────────────────────────────────┼────■──»\n",
      "«     ┌──────────────────────────────┐┌─┴─┐┌─┴─┐»\n",
      "«q_2: ┤ P(2.0*(π - x[0])*(π - x[2])) ├┤ X ├┤ X ├»\n",
      "«     └──────────────────────────────┘└───┘└───┘»\n",
      "«                                          \n",
      "«q_0: ─────────────────────────────────────\n",
      "«                                          \n",
      "«q_1: ──────────────────────────────────■──\n",
      "«     ┌──────────────────────────────┐┌─┴─┐\n",
      "«q_2: ┤ P(2.0*(π - x[1])*(π - x[2])) ├┤ X ├\n",
      "«     └──────────────────────────────┘└───┘\n"
     ]
    }
   ],
   "source": [
    "# specify the feature map\n",
    "fm = ZZFeatureMap(num_qubits, reps=2)\n",
    "print(fm.draw())"
   ]
  },
  {
   "cell_type": "code",
   "execution_count": 15,
   "id": "answering-baltimore",
   "metadata": {},
   "outputs": [
    {
     "name": "stdout",
     "output_type": "stream",
     "text": [
      "     ┌──────────┐          ┌──────────┐            \n",
      "q_0: ┤ RY(θ[0]) ├──■────■──┤ RY(θ[3]) ├────────────\n",
      "     ├──────────┤┌─┴─┐  │  └──────────┘┌──────────┐\n",
      "q_1: ┤ RY(θ[1]) ├┤ X ├──┼───────■──────┤ RY(θ[4]) ├\n",
      "     ├──────────┤└───┘┌─┴─┐   ┌─┴─┐    ├──────────┤\n",
      "q_2: ┤ RY(θ[2]) ├─────┤ X ├───┤ X ├────┤ RY(θ[5]) ├\n",
      "     └──────────┘     └───┘   └───┘    └──────────┘\n"
     ]
    }
   ],
   "source": [
    "# specify the variational form\n",
    "var_form = RealAmplitudes(num_qubits, reps=1)\n",
    "print(var_form.draw())"
   ]
  },
  {
   "cell_type": "code",
   "execution_count": 16,
   "id": "searching-merit",
   "metadata": {},
   "outputs": [
    {
     "name": "stdout",
     "output_type": "stream",
     "text": [
      "1.0 * ZZZ\n"
     ]
    }
   ],
   "source": [
    "# specify the observable\n",
    "observable = PauliSumOp.from_list([('Z'*num_qubits, 1)])\n",
    "print(observable)"
   ]
  },
  {
   "cell_type": "code",
   "execution_count": 17,
   "id": "placed-melbourne",
   "metadata": {},
   "outputs": [],
   "source": [
    "# define two layer QNN\n",
    "qnn3 = TwoLayerQNN(num_qubits, fm, var_form, observable, qi_sv)"
   ]
  },
  {
   "cell_type": "code",
   "execution_count": 18,
   "id": "transparent-document",
   "metadata": {},
   "outputs": [],
   "source": [
    "# define (random) input and weights\n",
    "input3 = np.random.rand(qnn3.num_inputs)\n",
    "weights3 = np.random.rand(qnn3.num_weights)"
   ]
  },
  {
   "cell_type": "code",
   "execution_count": 19,
   "id": "comfortable-champion",
   "metadata": {},
   "outputs": [
    {
     "data": {
      "text/plain": [
       "array(-0.61511137)"
      ]
     },
     "execution_count": 19,
     "metadata": {},
     "output_type": "execute_result"
    }
   ],
   "source": [
    "# QNN forward pass\n",
    "qnn3.forward(input3, weights3)"
   ]
  },
  {
   "cell_type": "code",
   "execution_count": 20,
   "id": "suffering-macedonia",
   "metadata": {},
   "outputs": [
    {
     "data": {
      "text/plain": [
       "(array([-1.48076126, -2.37762168, -0.18183531]),\n",
       " array([-0.01749486,  0.27509667, -0.41116957, -0.3181454 , -0.0307983 ,\n",
       "         0.15724138]))"
      ]
     },
     "execution_count": 20,
     "metadata": {},
     "output_type": "execute_result"
    }
   ],
   "source": [
    "# QNN backward pass\n",
    "qnn3.backward(input3, weights3)"
   ]
  },
  {
   "cell_type": "markdown",
   "id": "brief-twist",
   "metadata": {},
   "source": [
    "## 4. `CircuitQNN`\n",
    "\n",
    "The `CircuitQNN` is just based on a (parametrized) `QuantumCircuit`. This can take input as well as weight parameters and produces samples from the measurement. The samples can either be interpreted as probabilities or directly as a batch of binary output. In the case of probabilities, gradients can be estimated efficiently and the `CircuitQNN` provides a backward pass as well. In case of samples, differentiation is not possible and the backward pass returns `(None, None)`.\n",
    "\n",
    "Further, the `CircuitQNN` allows to specify different `interpret` options for the measured samples:\n",
    "- 'int': interprets returns the measured bitstrings as integers\n",
    "- 'str': returns the measured bitstrings\n",
    "- 'tuple': returns the measured bitstrings as tuples\n",
    "- a `callable`: applies a callable to the tuple of binaries and returns the result\n",
    "\n",
    "The probabilities are then aggregated accordingly.\n",
    "\n",
    "In case of `interpret='int'` or if `interpret` is set to a callable that returns non-negative integers, the `CircuitQNN` can be configured to return a dense instead of a sparse result.\n",
    "\n",
    "<font color=\"red\">output shape / dense / return types need to be further discussed</font>\n",
    "\n",
    "<font color=\"red\">what about `return_samples`?</font>"
   ]
  },
  {
   "cell_type": "code",
   "execution_count": 21,
   "id": "pressed-financing",
   "metadata": {},
   "outputs": [],
   "source": [
    "from qiskit_machine_learning.neural_networks import CircuitQNN"
   ]
  },
  {
   "cell_type": "code",
   "execution_count": 22,
   "id": "coated-springfield",
   "metadata": {},
   "outputs": [
    {
     "name": "stdout",
     "output_type": "stream",
     "text": [
      "     ┌──────────┐     ┌──────────┐            \n",
      "q_0: ┤ RY(θ[0]) ├──■──┤ RY(θ[3]) ├────────────\n",
      "     ├──────────┤┌─┴─┐└──────────┘┌──────────┐\n",
      "q_1: ┤ RY(θ[1]) ├┤ X ├─────■──────┤ RY(θ[4]) ├\n",
      "     ├──────────┤└───┘   ┌─┴─┐    ├──────────┤\n",
      "q_2: ┤ RY(θ[2]) ├────────┤ X ├────┤ RY(θ[5]) ├\n",
      "     └──────────┘        └───┘    └──────────┘\n"
     ]
    }
   ],
   "source": [
    "qc = RealAmplitudes(num_qubits, entanglement='linear', reps=1)\n",
    "print(qc.draw())"
   ]
  },
  {
   "cell_type": "markdown",
   "id": "beginning-reggae",
   "metadata": {},
   "source": [
    "### 4.1 Output: sparse integer probabilities"
   ]
  },
  {
   "cell_type": "code",
   "execution_count": 23,
   "id": "fluid-extraction",
   "metadata": {},
   "outputs": [],
   "source": [
    "# specify circuit QNN\n",
    "qnn4 = CircuitQNN(qc, [], qc.parameters, interpret='int', dense=False, quantum_instance=qi_qasm)"
   ]
  },
  {
   "cell_type": "code",
   "execution_count": 24,
   "id": "regional-directive",
   "metadata": {},
   "outputs": [],
   "source": [
    "# define (random) input and weights\n",
    "input4 = np.random.rand(qnn4.num_inputs)\n",
    "weights4 = np.random.rand(qnn4.num_weights)"
   ]
  },
  {
   "cell_type": "code",
   "execution_count": 25,
   "id": "retired-duration",
   "metadata": {},
   "outputs": [
    {
     "data": {
      "text/plain": [
       "{7: 0.01, 6: 0.01, 1: 0.02, 4: 0.27, 5: 0.01, 2: 0.03, 0: 0.65}"
      ]
     },
     "execution_count": 25,
     "metadata": {},
     "output_type": "execute_result"
    }
   ],
   "source": [
    "# QNN forward pass\n",
    "qnn4.forward(input4, weights4)"
   ]
  },
  {
   "cell_type": "code",
   "execution_count": 26,
   "id": "green-cleveland",
   "metadata": {
    "scrolled": true
   },
   "outputs": [
    {
     "data": {
      "text/plain": [
       "([],\n",
       " [{0: -0.0025057794458004934,\n",
       "   1: -0.00586966862480692,\n",
       "   2: -0.010273744832269305,\n",
       "   3: 0.010567264036027634,\n",
       "   4: 0.017682995574414107,\n",
       "   5: -0.020044055365277896,\n",
       "   6: -0.026548867685693298,\n",
       "   7: 0.03699185634340618},\n",
       "  {0: -0.05876201548661364,\n",
       "   1: -0.0012820440773502004,\n",
       "   2: 0.0403634704387538,\n",
       "   3: 0.00249390812591016,\n",
       "   4: -0.09805120950434351,\n",
       "   5: -0.0046882592865879445,\n",
       "   6: 0.11121055630828422,\n",
       "   7: 0.00871559348194708},\n",
       "  {0: -0.3964347660835613,\n",
       "   1: -0.022500053834983904,\n",
       "   2: -0.014202347163585458,\n",
       "   3: -0.0003320513514119419,\n",
       "   4: 0.39037792115032194,\n",
       "   5: 0.021363879648834013,\n",
       "   6: 0.020259192096824828,\n",
       "   7: 0.0014682255375618365},\n",
       "  {0: -0.15926628337083015,\n",
       "   1: 0.1592662833708302,\n",
       "   2: -0.007994779338802402,\n",
       "   3: 0.007994779338802403,\n",
       "   4: -0.051770011832395005,\n",
       "   5: 0.051770011832395005,\n",
       "   6: -0.00482546054338656,\n",
       "   7: 0.004825460543386562},\n",
       "  {0: -0.14644139529898903,\n",
       "   1: -0.008694937582787096,\n",
       "   2: 0.14644139529898903,\n",
       "   3: 0.008694937582787094,\n",
       "   4: -0.05716375703118039,\n",
       "   5: -0.004370149241443571,\n",
       "   6: 0.05716375703118037,\n",
       "   7: 0.00437014924144357},\n",
       "  {0: -0.3893570484184184,\n",
       "   1: -0.021176494449251192,\n",
       "   2: -0.02149990702411145,\n",
       "   3: -0.0017943562364808635,\n",
       "   4: 0.3893570484184183,\n",
       "   5: 0.021176494449251192,\n",
       "   6: 0.02149990702411145,\n",
       "   7: 0.0017943562364808637}])"
      ]
     },
     "execution_count": 26,
     "metadata": {},
     "output_type": "execute_result"
    }
   ],
   "source": [
    "# QNN backward pass\n",
    "qnn4.backward(input4, weights4)"
   ]
  },
  {
   "cell_type": "markdown",
   "id": "experimental-tribe",
   "metadata": {},
   "source": [
    "### 4.2 Output: sparse string probabilities"
   ]
  },
  {
   "cell_type": "code",
   "execution_count": 27,
   "id": "nasty-flash",
   "metadata": {},
   "outputs": [],
   "source": [
    "# specify circuit QNN\n",
    "qnn5 = CircuitQNN(qc, [], qc.parameters, interpret='str', dense=False, quantum_instance=qi_qasm)"
   ]
  },
  {
   "cell_type": "code",
   "execution_count": 28,
   "id": "nominated-satin",
   "metadata": {},
   "outputs": [],
   "source": [
    "# define (random) input and weights\n",
    "input5 = np.random.rand(qnn5.num_inputs)\n",
    "weights5 = np.random.rand(qnn5.num_weights)"
   ]
  },
  {
   "cell_type": "code",
   "execution_count": 29,
   "id": "detailed-macedonia",
   "metadata": {},
   "outputs": [
    {
     "data": {
      "text/plain": [
       "{'100': 0.09, '001': 0.13, '110': 0.18, '000': 0.45, '111': 0.15}"
      ]
     },
     "execution_count": 29,
     "metadata": {},
     "output_type": "execute_result"
    }
   ],
   "source": [
    "# QNN forward pass\n",
    "qnn5.forward(input5, weights5)"
   ]
  },
  {
   "cell_type": "code",
   "execution_count": 30,
   "id": "mounted-chest",
   "metadata": {
    "scrolled": true
   },
   "outputs": [
    {
     "data": {
      "text/plain": [
       "([],\n",
       " [{'000': -0.2588217873373816,\n",
       "   '001': 0.10632406220257021,\n",
       "   '010': -0.001643067514288736,\n",
       "   '011': -3.3156272785305783e-05,\n",
       "   '100': -0.029837547735772043,\n",
       "   '101': 0.004315448276981103,\n",
       "   '110': -0.14259208274508497,\n",
       "   '111': 0.32228813112576127},\n",
       "  {'000': -0.3158697693106967,\n",
       "   '001': 0.0584502817840377,\n",
       "   '010': -0.006486278561273241,\n",
       "   '011': 0.000339791871989388,\n",
       "   '100': -0.076380354634677,\n",
       "   '101': 0.006624300211620933,\n",
       "   '110': 0.31657541605863615,\n",
       "   '111': 0.016746612580362592},\n",
       "  {'000': -0.24111538027686724,\n",
       "   '001': -0.059525751166685244,\n",
       "   '010': 0.020648539299883993,\n",
       "   '011': 0.006445036842402697,\n",
       "   '100': 0.18025932169985298,\n",
       "   '101': 0.02829790667639321,\n",
       "   '110': 0.040207519277130344,\n",
       "   '111': 0.02478280764788931},\n",
       "  {'000': -0.2261736241658003,\n",
       "   '001': 0.2261736241658003,\n",
       "   '010': -0.0010990948832156884,\n",
       "   '011': 0.0010990948832156884,\n",
       "   '100': -0.023070672198536573,\n",
       "   '101': 0.023070672198536573,\n",
       "   '110': -0.16146953208701448,\n",
       "   '111': 0.16146953208701448},\n",
       "  {'000': -0.045699324407297584,\n",
       "   '001': -0.005439604988980613,\n",
       "   '010': 0.0456993244072975,\n",
       "   '011': 0.005439604988980613,\n",
       "   '100': -0.10063633769903359,\n",
       "   '101': -0.03701655614666082,\n",
       "   '110': 0.10063633769903355,\n",
       "   '111': 0.037016556146660815},\n",
       "  {'000': -0.1814421318962941,\n",
       "   '001': -0.028758356664738693,\n",
       "   '010': -0.02534699408348617,\n",
       "   '011': -0.007001632458962598,\n",
       "   '100': 0.18144213189629407,\n",
       "   '101': 0.028758356664738687,\n",
       "   '110': 0.025346994083486157,\n",
       "   '111': 0.007001632458962598}])"
      ]
     },
     "execution_count": 30,
     "metadata": {},
     "output_type": "execute_result"
    }
   ],
   "source": [
    "# QNN backward pass\n",
    "qnn5.backward(input5, weights5)"
   ]
  },
  {
   "cell_type": "markdown",
   "id": "published-caribbean",
   "metadata": {},
   "source": [
    "### 4.3 Output: dense parity probabilities"
   ]
  },
  {
   "cell_type": "code",
   "execution_count": 31,
   "id": "disabled-raising",
   "metadata": {},
   "outputs": [],
   "source": [
    "# specify circuit QNN\n",
    "parity = lambda x: np.sum(x) % 2\n",
    "output_shape = 2  # this is required in case of a callable with dense output\n",
    "qnn6 = CircuitQNN(qc, [], qc.parameters, interpret=parity, dense=True, output_shape=output_shape,\n",
    "                  quantum_instance=qi_qasm)"
   ]
  },
  {
   "cell_type": "code",
   "execution_count": 32,
   "id": "excited-graphic",
   "metadata": {},
   "outputs": [],
   "source": [
    "# define (random) input and weights\n",
    "input6 = np.random.rand(qnn6.num_inputs)\n",
    "weights6 = np.random.rand(qnn6.num_weights)"
   ]
  },
  {
   "cell_type": "code",
   "execution_count": 33,
   "id": "equivalent-bandwidth",
   "metadata": {},
   "outputs": [
    {
     "data": {
      "text/plain": [
       "array([[0.55, 0.45]])"
      ]
     },
     "execution_count": 33,
     "metadata": {},
     "output_type": "execute_result"
    }
   ],
   "source": [
    "# QNN forward pass\n",
    "qnn6.forward(input6, weights6)"
   ]
  },
  {
   "cell_type": "code",
   "execution_count": 34,
   "id": "latin-occasions",
   "metadata": {
    "scrolled": true
   },
   "outputs": [
    {
     "data": {
      "text/plain": [
       "(array([], shape=(1, 2, 0), dtype=float64),\n",
       " array([[[-0.3483633 ,  0.12097291, -0.14164533, -0.33666166,\n",
       "          -0.00650527, -0.08430846],\n",
       "         [ 0.3483633 , -0.12097291,  0.14164533,  0.33666166,\n",
       "           0.00650527,  0.08430846]]]))"
      ]
     },
     "execution_count": 34,
     "metadata": {},
     "output_type": "execute_result"
    }
   ],
   "source": [
    "# QNN backward pass\n",
    "qnn6.backward(input6, weights6)"
   ]
  },
  {
   "cell_type": "markdown",
   "id": "reported-figure",
   "metadata": {},
   "source": [
    "### 4.4 Output: dense samples"
   ]
  },
  {
   "cell_type": "code",
   "execution_count": 35,
   "id": "religious-template",
   "metadata": {},
   "outputs": [],
   "source": [
    "# TODO: show how to setup a circuit QNN that returns samples... (but no gradients)"
   ]
  },
  {
   "cell_type": "code",
   "execution_count": 36,
   "id": "perceived-illness",
   "metadata": {},
   "outputs": [
    {
     "data": {
      "text/html": [
       "<h3>Version Information</h3><table><tr><th>Qiskit Software</th><th>Version</th></tr><tr><td>Qiskit</td><td>None</td></tr><tr><td>Terra</td><td>0.17.0.dev0+fb6830c</td></tr><tr><td>Aer</td><td>0.8.0</td></tr><tr><td>Ignis</td><td>0.6.0.dev0+1537c75</td></tr><tr><td>Aqua</td><td>None</td></tr><tr><td>IBM Q Provider</td><td>0.13.0.dev0+330b1ae</td></tr><tr><th>System information</th></tr><tr><td>Python</td><td>3.8.8 (default, Feb 24 2021, 13:46:16) \n",
       "[Clang 10.0.0 ]</td></tr><tr><td>OS</td><td>Darwin</td></tr><tr><td>CPUs</td><td>6</td></tr><tr><td>Memory (Gb)</td><td>16.0</td></tr><tr><td colspan='2'>Tue Mar 16 15:20:49 2021 CET</td></tr></table>"
      ],
      "text/plain": [
       "<IPython.core.display.HTML object>"
      ]
     },
     "metadata": {},
     "output_type": "display_data"
    },
    {
     "data": {
      "text/html": [
       "<div style='width: 100%; background-color:#d5d9e0;padding-left: 10px; padding-bottom: 10px; padding-right: 10px; padding-top: 5px'><h3>This code is a part of Qiskit</h3><p>&copy; Copyright IBM 2017, 2021.</p><p>This code is licensed under the Apache License, Version 2.0. You may<br>obtain a copy of this license in the LICENSE.txt file in the root directory<br> of this source tree or at http://www.apache.org/licenses/LICENSE-2.0.<p>Any modifications or derivative works of this code must retain this<br>copyright notice, and modified files need to carry a notice indicating<br>that they have been altered from the originals.</p></div>"
      ],
      "text/plain": [
       "<IPython.core.display.HTML object>"
      ]
     },
     "metadata": {},
     "output_type": "display_data"
    }
   ],
   "source": [
    "import qiskit.tools.jupyter\n",
    "%qiskit_version_table\n",
    "%qiskit_copyright"
   ]
  },
  {
   "cell_type": "code",
   "execution_count": null,
   "id": "opposed-fashion",
   "metadata": {},
   "outputs": [],
   "source": []
  }
 ],
 "metadata": {
  "kernelspec": {
   "display_name": "Python [conda env:qiskit-ml] *",
   "language": "python",
   "name": "conda-env-qiskit-ml-py"
  },
  "language_info": {
   "codemirror_mode": {
    "name": "ipython",
    "version": 3
   },
   "file_extension": ".py",
   "mimetype": "text/x-python",
   "name": "python",
   "nbconvert_exporter": "python",
   "pygments_lexer": "ipython3",
   "version": "3.8.8"
  }
 },
 "nbformat": 4,
 "nbformat_minor": 5
}
