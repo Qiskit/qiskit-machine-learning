{
 "cells": [
  {
   "cell_type": "markdown",
   "id": "respective-mainland",
   "metadata": {},
   "source": [
    "# (Quantum) Neural Networks\n",
    "\n",
    "This notebook demonstrates the different generic (quantum) neural network implementations provided in Qiskit Machine Learning.\n",
    "The networks are meant as application-anostic computational units that can be used in different use cases. \n",
    "Depending on the application, a particluar type of network might more or less suitable.\n",
    "In the following, the different available networks will be discussed in more detail:\n",
    "\n",
    "1. `NeuralNetwork`: The interface for neural networks.\n",
    "2. `OpflowQNN`: A network based on the evaluation of quantum mechanical observables.\n",
    "3. `TwoLayerQNN`: A special `OpflowQNN` implementation for convenience. \n",
    "3. `CircuitQNN`: A network based on the samples resulting from measuring a quantum circuit."
   ]
  },
  {
   "cell_type": "code",
   "execution_count": 1,
   "id": "improved-trademark",
   "metadata": {},
   "outputs": [],
   "source": [
    "import numpy as np\n",
    "\n",
    "from qiskit import Aer, QuantumCircuit\n",
    "from qiskit.circuit import Parameter\n",
    "from qiskit.circuit.library import RealAmplitudes, ZZFeatureMap\n",
    "from qiskit.opflow import StateFn, PauliSumOp, AerPauliExpectation, ListOp, Gradient\n",
    "from qiskit.utils import QuantumInstance"
   ]
  },
  {
   "cell_type": "code",
   "execution_count": 2,
   "id": "southeast-thong",
   "metadata": {},
   "outputs": [],
   "source": [
    "# set method to calculcate expected values\n",
    "expval = AerPauliExpectation()\n",
    "\n",
    "# define gradient method\n",
    "gradient = Gradient()\n",
    "\n",
    "# define quantum instances (statevector and sample based)\n",
    "qi_sv = QuantumInstance(Aer.get_backend('statevector_simulator'))\n",
    "qi_qasm = QuantumInstance(Aer.get_backend('qasm_simulator'), shots=100) "
   ]
  },
  {
   "cell_type": "markdown",
   "id": "indie-costume",
   "metadata": {},
   "source": [
    "## 1. `NeuralNetwork`\n",
    "\n",
    "The `NeuralNetwork` represents the interface for all neural networks available in Qiskit Machine Learning.\n",
    "It just exposes a forward and a backward pass taking the data samples and trainable weights as input.\n",
    "A `NeuralNetwork` does not contain any training capabilities, these are pushed to the actual algorithms / applications. Thus, a `NeuralNetwork` also does not store the values for trainable weights. In the following, different implementations of this interfaces are introduced.\n",
    "\n",
    "Suppose a `NeuralNetwork` called `nn`.\n",
    "Then, the `nn.forward(input, weights)` pass takes either flat inputs for the data and weights of size `nn.num_inputs` and `nn.num_weights`, respectively, or corresponding batches."
   ]
  },
  {
   "cell_type": "markdown",
   "id": "extended-idaho",
   "metadata": {},
   "source": [
    "## 2. `OpflowQNN`"
   ]
  },
  {
   "cell_type": "code",
   "execution_count": 3,
   "id": "descending-candy",
   "metadata": {},
   "outputs": [],
   "source": [
    "from qiskit_machine_learning.neural_networks import OpflowQNN"
   ]
  },
  {
   "cell_type": "code",
   "execution_count": 4,
   "id": "complex-associate",
   "metadata": {},
   "outputs": [
    {
     "name": "stdout",
     "output_type": "stream",
     "text": [
      "ComposedOp([\n",
      "  OperatorMeasurement(1.0 * Z\n",
      "  + 1.0 * X),\n",
      "  CircuitStateFn(\n",
      "       ┌───┐┌────────────┐┌─────────────┐\n",
      "  q_0: ┤ H ├┤ RY(input1) ├┤ RX(weight1) ├\n",
      "       └───┘└────────────┘└─────────────┘\n",
      "  )\n",
      "])\n"
     ]
    }
   ],
   "source": [
    "# construct parametrized circuit\n",
    "params1 = [Parameter('input1'), Parameter('weight1')]\n",
    "qc1 = QuantumCircuit(1)\n",
    "qc1.h(0)\n",
    "qc1.ry(params1[0], 0)\n",
    "qc1.rx(params1[1], 0)\n",
    "qc_sfn1 = StateFn(qc1)\n",
    "\n",
    "# construct cost operator\n",
    "H1 = StateFn(PauliSumOp.from_list([('Z', 1.0), ('X', 1.0)]))\n",
    "\n",
    "# combine operator and circuit to objective function\n",
    "op1 = ~H1 @ qc_sfn1\n",
    "print(op1)"
   ]
  },
  {
   "cell_type": "code",
   "execution_count": 5,
   "id": "positive-multiple",
   "metadata": {},
   "outputs": [],
   "source": [
    "# construct OpflowQNN with the operator, the input parameters, the weight parameters, \n",
    "# the expected value, gradient, and quantum instance.\n",
    "qnn1 = OpflowQNN(op1, [params1[0]], [params1[1]], expval, gradient, qi_sv)"
   ]
  },
  {
   "cell_type": "code",
   "execution_count": 6,
   "id": "large-league",
   "metadata": {},
   "outputs": [],
   "source": [
    "# define (random) input and weights\n",
    "input1 = np.random.rand(qnn1.num_inputs)\n",
    "weights1 = np.random.rand(qnn1.num_weights)"
   ]
  },
  {
   "cell_type": "code",
   "execution_count": 7,
   "id": "dominant-integer",
   "metadata": {},
   "outputs": [
    {
     "data": {
      "text/plain": [
       "array(0.45585293)"
      ]
     },
     "execution_count": 7,
     "metadata": {},
     "output_type": "execute_result"
    }
   ],
   "source": [
    "# QNN forward pass\n",
    "qnn1.forward(input1, weights1)"
   ]
  },
  {
   "cell_type": "code",
   "execution_count": 8,
   "id": "pending-laundry",
   "metadata": {},
   "outputs": [
    {
     "data": {
      "text/plain": [
       "(array([-1.32212928]), array([0.09418362]))"
      ]
     },
     "execution_count": 8,
     "metadata": {},
     "output_type": "execute_result"
    }
   ],
   "source": [
    "# QNN backward pass\n",
    "qnn1.backward(input1, weights1)"
   ]
  },
  {
   "cell_type": "markdown",
   "id": "hindu-traveler",
   "metadata": {},
   "source": [
    "<font color=\"red\">INCLUDE BATCHES...</font>"
   ]
  },
  {
   "cell_type": "markdown",
   "id": "committed-smile",
   "metadata": {},
   "source": [
    "Combining multiple observables in a `ListOp` also allows to create more complex QNNs"
   ]
  },
  {
   "cell_type": "code",
   "execution_count": 9,
   "id": "approximate-flooring",
   "metadata": {},
   "outputs": [],
   "source": [
    "op2 = ListOp([op1, op1])\n",
    "qnn2 = OpflowQNN(op2, [params1[0]], [params1[1]], expval, gradient, qi_sv)"
   ]
  },
  {
   "cell_type": "code",
   "execution_count": 10,
   "id": "prepared-observer",
   "metadata": {},
   "outputs": [
    {
     "data": {
      "text/plain": [
       "array([0.45585293, 0.45585293])"
      ]
     },
     "execution_count": 10,
     "metadata": {},
     "output_type": "execute_result"
    }
   ],
   "source": [
    "# QNN forward pass\n",
    "qnn2.forward(input1, weights1)"
   ]
  },
  {
   "cell_type": "code",
   "execution_count": 11,
   "id": "broken-fields",
   "metadata": {},
   "outputs": [
    {
     "data": {
      "text/plain": [
       "(array([[-1.32212928],\n",
       "        [-1.32212928]]),\n",
       " array([[0.09418362],\n",
       "        [0.09418362]]))"
      ]
     },
     "execution_count": 11,
     "metadata": {},
     "output_type": "execute_result"
    }
   ],
   "source": [
    "# QNN backward pass\n",
    "qnn2.backward(input1, weights1)"
   ]
  },
  {
   "cell_type": "markdown",
   "id": "removable-teddy",
   "metadata": {},
   "source": [
    "## 3. `TwoLayerQNN`\n",
    "\n",
    "The `TwoLayerQNN` is a special `OpflowQNN` on $n$ qubits that consists of first a feature map to insert data and second a variational form that is trained. The default observable is $Z^{\\otimes n}$, i.e., parity."
   ]
  },
  {
   "cell_type": "code",
   "execution_count": 12,
   "id": "laden-damage",
   "metadata": {},
   "outputs": [],
   "source": [
    "from qiskit_machine_learning.neural_networks import TwoLayerQNN"
   ]
  },
  {
   "cell_type": "code",
   "execution_count": 13,
   "id": "patient-dublin",
   "metadata": {},
   "outputs": [],
   "source": [
    "# specify the number of qubits\n",
    "num_qubits = 3"
   ]
  },
  {
   "cell_type": "code",
   "execution_count": 14,
   "id": "given-express",
   "metadata": {
    "scrolled": false
   },
   "outputs": [
    {
     "name": "stdout",
     "output_type": "stream",
     "text": [
      "     ┌───┐┌─────────────┐                                               »\n",
      "q_0: ┤ H ├┤ P(2.0*x[0]) ├──■────────────────────────────────────■────■──»\n",
      "     ├───┤├─────────────┤┌─┴─┐┌──────────────────────────────┐┌─┴─┐  │  »\n",
      "q_1: ┤ H ├┤ P(2.0*x[1]) ├┤ X ├┤ P(2.0*(π - x[0])*(π - x[1])) ├┤ X ├──┼──»\n",
      "     ├───┤├─────────────┤└───┘└──────────────────────────────┘└───┘┌─┴─┐»\n",
      "q_2: ┤ H ├┤ P(2.0*x[2]) ├──────────────────────────────────────────┤ X ├»\n",
      "     └───┘└─────────────┘                                          └───┘»\n",
      "«                                          ┌───┐»\n",
      "«q_0: ──────────────────────────────────■──┤ H ├»\n",
      "«                                       │  └───┘»\n",
      "«q_1: ──────────────────────────────────┼────■──»\n",
      "«     ┌──────────────────────────────┐┌─┴─┐┌─┴─┐»\n",
      "«q_2: ┤ P(2.0*(π - x[0])*(π - x[2])) ├┤ X ├┤ X ├»\n",
      "«     └──────────────────────────────┘└───┘└───┘»\n",
      "«             ┌─────────────┐                                       »\n",
      "«q_0: ────────┤ P(2.0*x[0]) ├────────────────────────────────────■──»\n",
      "«             └─────────────┘              ┌───┐┌─────────────┐┌─┴─┐»\n",
      "«q_1: ──────────────────────────────────■──┤ H ├┤ P(2.0*x[1]) ├┤ X ├»\n",
      "«     ┌──────────────────────────────┐┌─┴─┐├───┤├─────────────┤└───┘»\n",
      "«q_2: ┤ P(2.0*(π - x[1])*(π - x[2])) ├┤ X ├┤ H ├┤ P(2.0*x[2]) ├─────»\n",
      "«     └──────────────────────────────┘└───┘└───┘└─────────────┘     »\n",
      "«                                               »\n",
      "«q_0: ──────────────────────────────────■────■──»\n",
      "«     ┌──────────────────────────────┐┌─┴─┐  │  »\n",
      "«q_1: ┤ P(2.0*(π - x[0])*(π - x[1])) ├┤ X ├──┼──»\n",
      "«     └──────────────────────────────┘└───┘┌─┴─┐»\n",
      "«q_2: ─────────────────────────────────────┤ X ├»\n",
      "«                                          └───┘»\n",
      "«                                               »\n",
      "«q_0: ──────────────────────────────────■───────»\n",
      "«                                       │       »\n",
      "«q_1: ──────────────────────────────────┼────■──»\n",
      "«     ┌──────────────────────────────┐┌─┴─┐┌─┴─┐»\n",
      "«q_2: ┤ P(2.0*(π - x[0])*(π - x[2])) ├┤ X ├┤ X ├»\n",
      "«     └──────────────────────────────┘└───┘└───┘»\n",
      "«                                          \n",
      "«q_0: ─────────────────────────────────────\n",
      "«                                          \n",
      "«q_1: ──────────────────────────────────■──\n",
      "«     ┌──────────────────────────────┐┌─┴─┐\n",
      "«q_2: ┤ P(2.0*(π - x[1])*(π - x[2])) ├┤ X ├\n",
      "«     └──────────────────────────────┘└───┘\n"
     ]
    }
   ],
   "source": [
    "# specify the feature map\n",
    "fm = ZZFeatureMap(num_qubits, reps=2)\n",
    "print(fm.draw())"
   ]
  },
  {
   "cell_type": "code",
   "execution_count": 15,
   "id": "sharing-flooring",
   "metadata": {},
   "outputs": [
    {
     "name": "stdout",
     "output_type": "stream",
     "text": [
      "     ┌──────────┐          ┌──────────┐            \n",
      "q_0: ┤ RY(θ[0]) ├──■────■──┤ RY(θ[3]) ├────────────\n",
      "     ├──────────┤┌─┴─┐  │  └──────────┘┌──────────┐\n",
      "q_1: ┤ RY(θ[1]) ├┤ X ├──┼───────■──────┤ RY(θ[4]) ├\n",
      "     ├──────────┤└───┘┌─┴─┐   ┌─┴─┐    ├──────────┤\n",
      "q_2: ┤ RY(θ[2]) ├─────┤ X ├───┤ X ├────┤ RY(θ[5]) ├\n",
      "     └──────────┘     └───┘   └───┘    └──────────┘\n"
     ]
    }
   ],
   "source": [
    "# specify the variational form\n",
    "var_form = RealAmplitudes(num_qubits, reps=1)\n",
    "print(var_form.draw())"
   ]
  },
  {
   "cell_type": "code",
   "execution_count": 16,
   "id": "structural-daisy",
   "metadata": {},
   "outputs": [
    {
     "name": "stdout",
     "output_type": "stream",
     "text": [
      "1.0 * ZZZ\n"
     ]
    }
   ],
   "source": [
    "# specify the observable\n",
    "observable = PauliSumOp.from_list([('Z'*num_qubits, 1)])\n",
    "print(observable)"
   ]
  },
  {
   "cell_type": "code",
   "execution_count": 17,
   "id": "advance-documentation",
   "metadata": {},
   "outputs": [],
   "source": [
    "# define two layer QNN\n",
    "qnn3 = TwoLayerQNN(num_qubits, fm, var_form, observable, qi_sv)"
   ]
  },
  {
   "cell_type": "code",
   "execution_count": 18,
   "id": "aware-isaac",
   "metadata": {},
   "outputs": [],
   "source": [
    "# define (random) input and weights\n",
    "input3 = np.random.rand(qnn3.num_inputs)\n",
    "weights3 = np.random.rand(qnn3.num_weights)"
   ]
  },
  {
   "cell_type": "code",
   "execution_count": 19,
   "id": "approximate-triangle",
   "metadata": {},
   "outputs": [
    {
     "data": {
      "text/plain": [
       "array(-0.36051753)"
      ]
     },
     "execution_count": 19,
     "metadata": {},
     "output_type": "execute_result"
    }
   ],
   "source": [
    "# QNN forward pass\n",
    "qnn3.forward(input3, weights3)"
   ]
  },
  {
   "cell_type": "code",
   "execution_count": 20,
   "id": "biblical-jacket",
   "metadata": {},
   "outputs": [
    {
     "data": {
      "text/plain": [
       "(array([-2.34814272,  0.91500684,  3.83553135]),\n",
       " array([-0.18182864,  0.30130437,  0.14988698,  0.34246303, -0.45361321,\n",
       "         0.40539456]))"
      ]
     },
     "execution_count": 20,
     "metadata": {},
     "output_type": "execute_result"
    }
   ],
   "source": [
    "# QNN backward pass\n",
    "qnn3.backward(input3, weights3)"
   ]
  },
  {
   "cell_type": "markdown",
   "id": "sound-technician",
   "metadata": {},
   "source": [
    "## 4. `CircuitQNN`\n",
    "\n",
    "The `CircuitQNN` is just based on a (parametrized) `QuantumCircuit`. This can take input as well as weight parameters and produces samples from the measurement. The samples can either be interpreted as probabilities or directly as a batch of binary output. In the case of probabilities, gradients can be estimated efficiently and the `CircuitQNN` provides a backward pass as well. In case of samples, differentiation is not possible and the backward pass returns `(None, None)`.\n",
    "\n",
    "Further, the `CircuitQNN` allows to specify different `interpret` options for the measured samples:\n",
    "- 'int': interprets returns the measured bitstrings as integers\n",
    "- 'str': returns the measured bitstrings\n",
    "- 'tuple': returns the measured bitstrings as tuples\n",
    "- a `callable`: applies a callable to the tuple of binaries and returns the result\n",
    "\n",
    "The probabilities are then aggregated accordingly.\n",
    "\n",
    "In case of `interpret='int'` or if `interpret` is set to a callable that returns non-negative integers, the `CircuitQNN` can be configured to return a dense instead of a sparse result.\n",
    "\n",
    "<font color=\"red\">output shape / dense / return types need to be further discussed</font>\n",
    "\n",
    "<font color=\"red\">what about `return_samples`?</font>"
   ]
  },
  {
   "cell_type": "code",
   "execution_count": 21,
   "id": "interracial-glasgow",
   "metadata": {},
   "outputs": [],
   "source": [
    "from qiskit_machine_learning.neural_networks import CircuitQNN"
   ]
  },
  {
   "cell_type": "code",
   "execution_count": 22,
   "id": "parental-degree",
   "metadata": {},
   "outputs": [
    {
     "name": "stdout",
     "output_type": "stream",
     "text": [
      "     ┌──────────┐     ┌──────────┐            \n",
      "q_0: ┤ RY(θ[0]) ├──■──┤ RY(θ[3]) ├────────────\n",
      "     ├──────────┤┌─┴─┐└──────────┘┌──────────┐\n",
      "q_1: ┤ RY(θ[1]) ├┤ X ├─────■──────┤ RY(θ[4]) ├\n",
      "     ├──────────┤└───┘   ┌─┴─┐    ├──────────┤\n",
      "q_2: ┤ RY(θ[2]) ├────────┤ X ├────┤ RY(θ[5]) ├\n",
      "     └──────────┘        └───┘    └──────────┘\n"
     ]
    }
   ],
   "source": [
    "qc = RealAmplitudes(num_qubits, entanglement='linear', reps=1)\n",
    "print(qc.draw())"
   ]
  },
  {
   "cell_type": "markdown",
   "id": "prescribed-patent",
   "metadata": {},
   "source": [
    "### 4.1 Output: sparse integer probabilities"
   ]
  },
  {
   "cell_type": "code",
   "execution_count": 23,
   "id": "inappropriate-yemen",
   "metadata": {},
   "outputs": [],
   "source": [
    "# specify circuit QNN\n",
    "qnn4 = CircuitQNN(qc, [], qc.parameters, interpret='int', dense=False, quantum_instance=qi_qasm)"
   ]
  },
  {
   "cell_type": "code",
   "execution_count": 24,
   "id": "common-demand",
   "metadata": {},
   "outputs": [],
   "source": [
    "# define (random) input and weights\n",
    "input4 = np.random.rand(qnn4.num_inputs)\n",
    "weights4 = np.random.rand(qnn4.num_weights)"
   ]
  },
  {
   "cell_type": "code",
   "execution_count": 25,
   "id": "fabulous-winter",
   "metadata": {},
   "outputs": [
    {
     "data": {
      "text/plain": [
       "{5: 0.07, 1: 0.03, 4: 0.33, 6: 0.16, 0: 0.3, 7: 0.11}"
      ]
     },
     "execution_count": 25,
     "metadata": {},
     "output_type": "execute_result"
    }
   ],
   "source": [
    "# QNN forward pass\n",
    "qnn4.forward(input4, weights4)"
   ]
  },
  {
   "cell_type": "code",
   "execution_count": 26,
   "id": "absolute-trunk",
   "metadata": {
    "scrolled": true
   },
   "outputs": [
    {
     "data": {
      "text/plain": [
       "([],\n",
       " [{0: -0.09216068046864453,\n",
       "   1: 0.04148840498308931,\n",
       "   2: -0.0007757408026608872,\n",
       "   3: -0.00033126830711488334,\n",
       "   4: -0.08904947559066703,\n",
       "   5: 0.017663416168886184,\n",
       "   6: -0.14822994987144422,\n",
       "   7: 0.2713952938885561},\n",
       "  {0: -0.13210131218575372,\n",
       "   1: 0.008453894415550809,\n",
       "   2: -0.007643882070999044,\n",
       "   3: -7.09695856479015e-05,\n",
       "   4: -0.27857283667969407,\n",
       "   5: 0.0034921663771016777,\n",
       "   6: 0.3502574344002816,\n",
       "   7: 0.056185505329160515},\n",
       "  {0: -0.37749546931187367,\n",
       "   1: -0.057689685880253645,\n",
       "   2: 0.014676473756966558,\n",
       "   3: 0.004076900457581105,\n",
       "   4: 0.31379965071241006,\n",
       "   5: 0.03755295751881814,\n",
       "   6: 0.04901934484249691,\n",
       "   7: 0.01605982790385442},\n",
       "  {0: -0.10732547775030718,\n",
       "   1: 0.10732547775030715,\n",
       "   2: -0.0013801826866591108,\n",
       "   3: 0.0013801826866591108,\n",
       "   4: -0.11471945425238239,\n",
       "   5: 0.11471945425238245,\n",
       "   6: -0.13154485543911065,\n",
       "   7: 0.13154485543911065},\n",
       "  {0: -0.04030564293046261,\n",
       "   1: -0.003675137163397957,\n",
       "   2: 0.04030564293046261,\n",
       "   3: 0.003675137163397948,\n",
       "   4: -0.2533713023900198,\n",
       "   5: -0.05955983918989293,\n",
       "   6: 0.2533713023900198,\n",
       "   7: 0.05955983918989292},\n",
       "  {0: -0.31799664254631604,\n",
       "   1: -0.038718396950050096,\n",
       "   2: -0.03211446876037692,\n",
       "   3: -0.005653399822703627,\n",
       "   4: 0.31799664254631604,\n",
       "   5: 0.038718396950050096,\n",
       "   6: 0.03211446876037692,\n",
       "   7: 0.00565339982270362}])"
      ]
     },
     "execution_count": 26,
     "metadata": {},
     "output_type": "execute_result"
    }
   ],
   "source": [
    "# QNN backward pass\n",
    "qnn4.backward(input4, weights4)"
   ]
  },
  {
   "cell_type": "markdown",
   "id": "southern-moral",
   "metadata": {},
   "source": [
    "### 4.2 Output: sparse string probabilities"
   ]
  },
  {
   "cell_type": "code",
   "execution_count": 27,
   "id": "impressed-gnome",
   "metadata": {},
   "outputs": [],
   "source": [
    "# specify circuit QNN\n",
    "qnn5 = CircuitQNN(qc, [], qc.parameters, interpret='str', dense=False, quantum_instance=qi_qasm)"
   ]
  },
  {
   "cell_type": "code",
   "execution_count": 28,
   "id": "instructional-devices",
   "metadata": {},
   "outputs": [],
   "source": [
    "# define (random) input and weights\n",
    "input5 = np.random.rand(qnn5.num_inputs)\n",
    "weights5 = np.random.rand(qnn5.num_weights)"
   ]
  },
  {
   "cell_type": "code",
   "execution_count": 29,
   "id": "wired-collection",
   "metadata": {},
   "outputs": [
    {
     "data": {
      "text/plain": [
       "{'001': 0.05, '010': 0.02, '000': 0.85, '100': 0.08}"
      ]
     },
     "execution_count": 29,
     "metadata": {},
     "output_type": "execute_result"
    }
   ],
   "source": [
    "# QNN forward pass\n",
    "qnn5.forward(input5, weights5)"
   ]
  },
  {
   "cell_type": "code",
   "execution_count": 30,
   "id": "subject-jacket",
   "metadata": {
    "scrolled": true
   },
   "outputs": [
    {
     "data": {
      "text/plain": [
       "([],\n",
       " [{'000': -0.13823102322492514,\n",
       "   '001': -0.001105836231703604,\n",
       "   '010': -0.00750328039967098,\n",
       "   '011': 0.013687533359384729,\n",
       "   '100': -0.018297362172265814,\n",
       "   '101': -0.004402942151135472,\n",
       "   '110': -0.012252553839265453,\n",
       "   '111': 0.16810546465958168},\n",
       "  {'000': -0.08876182466194363,\n",
       "   '001': 0.019292821125997405,\n",
       "   '010': 0.027721070281507967,\n",
       "   '011': 0.0031423604446615913,\n",
       "   '100': -0.06055188004706111,\n",
       "   '101': 0.0016414145572968795,\n",
       "   '110': 0.07233588822830381,\n",
       "   '111': 0.02518015007123729},\n",
       "  {'000': -0.3385533112232363,\n",
       "   '001': -0.011334563660513282,\n",
       "   '010': -0.0037145230639364767,\n",
       "   '011': 0.009814061241480052,\n",
       "   '100': 0.33315563586236113,\n",
       "   '101': 0.005319647606825769,\n",
       "   '110': 0.009112198424811502,\n",
       "   '111': -0.003799145187792543},\n",
       "  {'000': -0.11894402235700349,\n",
       "   '001': 0.11894402235700352,\n",
       "   '010': -0.0078114160063236905,\n",
       "   '011': 0.007811416006323691,\n",
       "   '100': -0.013712059934886934,\n",
       "   '101': 0.01371205993488694,\n",
       "   '110': -0.013882958008365396,\n",
       "   '111': 0.013882958008365394},\n",
       "  {'000': -0.11424155707963651,\n",
       "   '001': -0.00813295322514153,\n",
       "   '010': 0.11424155707963657,\n",
       "   '011': 0.00813295322514153,\n",
       "   '100': -0.029143492050197676,\n",
       "   '101': -0.006531954096521317,\n",
       "   '110': 0.02914349205019768,\n",
       "   '111': 0.006531954096521317},\n",
       "  {'000': -0.3325444148606043,\n",
       "   '001': -0.004904510467088833,\n",
       "   '010': -0.010011889425201148,\n",
       "   '011': -0.010831677797868443,\n",
       "   '100': 0.3325444148606044,\n",
       "   '101': 0.004904510467088831,\n",
       "   '110': 0.010011889425201148,\n",
       "   '111': 0.01083167779786844}])"
      ]
     },
     "execution_count": 30,
     "metadata": {},
     "output_type": "execute_result"
    }
   ],
   "source": [
    "# QNN backward pass\n",
    "qnn5.backward(input5, weights5)"
   ]
  },
  {
   "cell_type": "markdown",
   "id": "electoral-multiple",
   "metadata": {},
   "source": [
    "### 4.3 Output: dense parity probabilities"
   ]
  },
  {
   "cell_type": "code",
   "execution_count": 31,
   "id": "formed-arbitration",
   "metadata": {},
   "outputs": [],
   "source": [
    "# specify circuit QNN\n",
    "parity = lambda x: np.sum(x) % 2\n",
    "output_shape = 2  # this is required in case of a callable with dense output\n",
    "qnn6 = CircuitQNN(qc, [], qc.parameters, interpret=parity, dense=True, output_shape=output_shape,\n",
    "                  quantum_instance=qi_qasm)"
   ]
  },
  {
   "cell_type": "code",
   "execution_count": 32,
   "id": "occupied-final",
   "metadata": {},
   "outputs": [],
   "source": [
    "# define (random) input and weights\n",
    "input6 = np.random.rand(qnn6.num_inputs)\n",
    "weights6 = np.random.rand(qnn6.num_weights)"
   ]
  },
  {
   "cell_type": "code",
   "execution_count": 33,
   "id": "relevant-valve",
   "metadata": {},
   "outputs": [
    {
     "data": {
      "text/plain": [
       "array([[0.67, 0.33]])"
      ]
     },
     "execution_count": 33,
     "metadata": {},
     "output_type": "execute_result"
    }
   ],
   "source": [
    "# QNN forward pass\n",
    "qnn6.forward(input6, weights6)"
   ]
  },
  {
   "cell_type": "code",
   "execution_count": 34,
   "id": "satellite-roberts",
   "metadata": {
    "scrolled": true
   },
   "outputs": [
    {
     "data": {
      "text/plain": [
       "(array([], shape=(1, 2, 0), dtype=float64),\n",
       " array([[[-0.16637214,  0.03831956, -0.10334517, -0.19719425,\n",
       "          -0.2484858 ,  0.12584155],\n",
       "         [ 0.16637214, -0.03831956,  0.10334517,  0.19719425,\n",
       "           0.2484858 , -0.12584155]]]))"
      ]
     },
     "execution_count": 34,
     "metadata": {},
     "output_type": "execute_result"
    }
   ],
   "source": [
    "# QNN backward pass\n",
    "qnn6.backward(input6, weights6)"
   ]
  },
  {
   "cell_type": "markdown",
   "id": "bacterial-finance",
   "metadata": {},
   "source": [
    "### 4.4 Output: dense samples"
   ]
  },
  {
   "cell_type": "code",
   "execution_count": 35,
   "id": "incident-honey",
   "metadata": {},
   "outputs": [],
   "source": [
    "# TODO: show how to setup a circuit QNN that returns samples... (but no gradients)"
   ]
  },
  {
   "cell_type": "code",
   "execution_count": 36,
   "id": "surprised-disaster",
   "metadata": {},
   "outputs": [
    {
     "data": {
      "text/html": [
       "<h3>Version Information</h3><table><tr><th>Qiskit Software</th><th>Version</th></tr><tr><td>Qiskit</td><td>None</td></tr><tr><td>Terra</td><td>0.17.0.dev0+fb6830c</td></tr><tr><td>Aer</td><td>0.8.0</td></tr><tr><td>Ignis</td><td>0.6.0.dev0+1537c75</td></tr><tr><td>Aqua</td><td>None</td></tr><tr><td>IBM Q Provider</td><td>0.13.0.dev0+330b1ae</td></tr><tr><th>System information</th></tr><tr><td>Python</td><td>3.8.8 (default, Feb 24 2021, 13:46:16) \n",
       "[Clang 10.0.0 ]</td></tr><tr><td>OS</td><td>Darwin</td></tr><tr><td>CPUs</td><td>6</td></tr><tr><td>Memory (Gb)</td><td>16.0</td></tr><tr><td colspan='2'>Tue Mar 16 12:59:06 2021 CET</td></tr></table>"
      ],
      "text/plain": [
       "<IPython.core.display.HTML object>"
      ]
     },
     "metadata": {},
     "output_type": "display_data"
    },
    {
     "data": {
      "text/html": [
       "<div style='width: 100%; background-color:#d5d9e0;padding-left: 10px; padding-bottom: 10px; padding-right: 10px; padding-top: 5px'><h3>This code is a part of Qiskit</h3><p>&copy; Copyright IBM 2017, 2021.</p><p>This code is licensed under the Apache License, Version 2.0. You may<br>obtain a copy of this license in the LICENSE.txt file in the root directory<br> of this source tree or at http://www.apache.org/licenses/LICENSE-2.0.<p>Any modifications or derivative works of this code must retain this<br>copyright notice, and modified files need to carry a notice indicating<br>that they have been altered from the originals.</p></div>"
      ],
      "text/plain": [
       "<IPython.core.display.HTML object>"
      ]
     },
     "metadata": {},
     "output_type": "display_data"
    }
   ],
   "source": [
    "import qiskit.tools.jupyter\n",
    "%qiskit_version_table\n",
    "%qiskit_copyright"
   ]
  },
  {
   "cell_type": "code",
   "execution_count": null,
   "id": "confidential-blogger",
   "metadata": {},
   "outputs": [],
   "source": []
  }
 ],
 "metadata": {
  "kernelspec": {
   "display_name": "Python [conda env:qiskit-ml] *",
   "language": "python",
   "name": "conda-env-qiskit-ml-py"
  },
  "language_info": {
   "codemirror_mode": {
    "name": "ipython",
    "version": 3
   },
   "file_extension": ".py",
   "mimetype": "text/x-python",
   "name": "python",
   "nbconvert_exporter": "python",
   "pygments_lexer": "ipython3",
   "version": "3.8.8"
  }
 },
 "nbformat": 4,
 "nbformat_minor": 5
}
