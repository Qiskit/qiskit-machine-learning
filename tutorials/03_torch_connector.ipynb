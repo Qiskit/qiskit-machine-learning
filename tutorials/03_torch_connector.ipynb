{
 "cells": [
  {
   "cell_type": "markdown",
   "id": "southwest-status",
   "metadata": {},
   "source": [
    "# Torch Connector\n",
    "\n",
    "This tutorial shows how the `TorchConnector` allows to use any `NeuralNetwork` from Qiskit Machine Learning and integrate it in a PyTorch workflow. The `TorchConnector` takes any `NeuralNetwork` and makes it available as a PyTorch `Module`.\n",
    "\n",
    "### Content:\n",
    "\n",
    "#### Part 1: Simple Classification & Regression\n",
    "- Classification\n",
    "    - Classification with PyTorch and the `OpflowQNN`\n",
    "    - Classification with PyTorch and the `CircuitQNN`\n",
    "- Regression\n",
    "    - Regression with PyTorch and the `OpflowQNN`\n",
    "\n",
    "#### Part 2: MNIST Classification\n"
   ]
  },
  {
   "cell_type": "code",
   "execution_count": 1,
   "id": "according-construction",
   "metadata": {},
   "outputs": [],
   "source": [
    "import numpy as np\n",
    "import matplotlib.pyplot as plt\n",
    "\n",
    "from torch import Tensor\n",
    "from torch.nn import Linear, CrossEntropyLoss\n",
    "from torch.optim import LBFGS\n",
    "\n",
    "from qiskit  import Aer, QuantumCircuit\n",
    "from qiskit.utils import QuantumInstance\n",
    "from qiskit.circuit import Parameter\n",
    "from qiskit.circuit.library import RealAmplitudes, ZZFeatureMap\n",
    "from qiskit_machine_learning.neural_networks import CircuitQNN, TwoLayerQNN\n",
    "from qiskit_machine_learning.connectors import TorchConnector\n",
    "\n",
    "qi = QuantumInstance(Aer.get_backend('statevector_simulator'))"
   ]
  },
  {
   "cell_type": "markdown",
   "id": "dressed-apparatus",
   "metadata": {},
   "source": [
    "# Part 1: Simple Classification & Regression"
   ]
  },
  {
   "cell_type": "markdown",
   "id": "introductory-effectiveness",
   "metadata": {},
   "source": [
    "## Classification\n",
    "\n",
    "First, we show how the `TorchConnector` can be used to use a Quantum `NeuralNetwork` to solve a classification tasks. Therefore, we generate a simple random data set."
   ]
  },
  {
   "cell_type": "code",
   "execution_count": 2,
   "id": "boring-accommodation",
   "metadata": {},
   "outputs": [
    {
     "data": {
      "image/png": "[encoded data removed]",
      "text/plain": [
       "<Figure size 432x288 with 1 Axes>"
      ]
     },
     "metadata": {
      "needs_background": "light"
     },
     "output_type": "display_data"
    }
   ],
   "source": [
    "num_inputs = 2\n",
    "num_samples = 20\n",
    "X = 2*np.random.rand(num_samples, num_inputs) - 1\n",
    "y01 = 1*(np.sum(X, axis=1) >= 0)  # in { 0,  1}\n",
    "y = 2*y01-1                       # in {-1, +1}\n",
    "\n",
    "for x, y_target in zip(X, y):\n",
    "    if y_target == 1:\n",
    "        plt.plot(x[0], x[1], 'bo')\n",
    "    else:\n",
    "        plt.plot(x[0], x[1], 'go')\n",
    "plt.plot([-1, 1], [1, -1], '--', color='black')\n",
    "plt.show()"
   ]
  },
  {
   "cell_type": "markdown",
   "id": "cultural-penguin",
   "metadata": {},
   "source": [
    "### Classification with PyTorch and the `OpflowQNN`\n",
    "\n",
    "Linking an `OpflowQNN` to PyTorch is relatively straight-forward. Here we illustrate this using the `TwoLayerQNN`."
   ]
  },
  {
   "cell_type": "code",
   "execution_count": 3,
   "id": "protective-dictionary",
   "metadata": {},
   "outputs": [],
   "source": [
    "# set up QNN\n",
    "qnn1 = TwoLayerQNN(num_qubits=num_inputs, quantum_instance=qi)\n",
    "\n",
    "# set up PyTorch module\n",
    "model1 = TorchConnector(qnn1)"
   ]
  },
  {
   "cell_type": "code",
   "execution_count": 4,
   "id": "alone-flooring",
   "metadata": {},
   "outputs": [
    {
     "data": {
      "text/plain": [
       "tensor([0.1654], grad_fn=<_TorchNNFunctionBackward>)"
      ]
     },
     "execution_count": 4,
     "metadata": {},
     "output_type": "execute_result"
    }
   ],
   "source": [
    "# test with a single input\n",
    "x = Tensor(X[0, :])\n",
    "model1(x)"
   ]
  },
  {
   "cell_type": "code",
   "execution_count": 5,
   "id": "union-switzerland",
   "metadata": {},
   "outputs": [
    {
     "name": "stdout",
     "output_type": "stream",
     "text": [
      "23.21629524230957\n",
      "21.813167572021484\n",
      "25.015100479125977\n",
      "24.128360748291016\n",
      "22.476152420043945\n",
      "28.100976943969727\n",
      "20.279247283935547\n",
      "20.8486270904541\n",
      "26.146244049072266\n",
      "22.678077697753906\n",
      "25.07236099243164\n",
      "20.99858856201172\n",
      "20.092491149902344\n",
      "17.993118286132812\n",
      "17.864490509033203\n",
      "17.80898666381836\n",
      "17.799354553222656\n",
      "17.797426223754883\n",
      "17.797327041625977\n",
      "17.797100067138672\n"
     ]
    },
    {
     "data": {
      "text/plain": [
       "tensor([23.2163], grad_fn=<AddBackward0>)"
      ]
     },
     "execution_count": 5,
     "metadata": {},
     "output_type": "execute_result"
    }
   ],
   "source": [
    "# define model and optimizer\n",
    "optimizer = LBFGS(model1.parameters())\n",
    "\n",
    "# start training\n",
    "model1.train()   # set model to training mode\n",
    "\n",
    "# define objective function\n",
    "def closure():\n",
    "    optimizer.zero_grad(set_to_none=True)  # initialize gradient\n",
    "    \n",
    "    loss = 0.0                             # initialize loss\n",
    "    for x, y_target in zip(X, y):          # compute batch loss\n",
    "        output = model1(Tensor(x))         # forward pass\n",
    "        loss += (output - y_target)**2     # calculate loss\n",
    "        \n",
    "    loss.backward()                        # backward pass\n",
    "    \n",
    "    print(loss.item())                     # print loss\n",
    "    return loss\n",
    "\n",
    "# run optimizer\n",
    "optimizer.step(closure)"
   ]
  },
  {
   "cell_type": "code",
   "execution_count": 6,
   "id": "distinct-canadian",
   "metadata": {},
   "outputs": [
    {
     "name": "stdout",
     "output_type": "stream",
     "text": [
      "Accuracy: 0.6\n"
     ]
    },
    {
     "data": {
      "image/png": "[encoded data removed]",
      "text/plain": [
       "<Figure size 432x288 with 1 Axes>"
      ]
     },
     "metadata": {
      "needs_background": "light"
     },
     "output_type": "display_data"
    }
   ],
   "source": [
    "# evaluate model and compute accuracy\n",
    "y_predict = []\n",
    "for x, y_target in zip(X, y):\n",
    "    output = model1(Tensor(x))\n",
    "    y_predict += [np.sign(output.detach().numpy())[0]]\n",
    "\n",
    "print('Accuracy:', sum(y_predict == y)/len(y))\n",
    "\n",
    "# plot results\n",
    "# red == wrongly classified\n",
    "for x, y_target, y_ in zip(X, y, y_predict):\n",
    "    if y_target == 1:\n",
    "        plt.plot(x[0], x[1], 'bo')\n",
    "    else:\n",
    "        plt.plot(x[0], x[1], 'go')\n",
    "    if y_target != y_:\n",
    "        plt.scatter(x[0], x[1], s=200, facecolors='none', edgecolors='r', linewidths=2)\n",
    "plt.plot([-1, 1], [1, -1], '--', color='black')\n",
    "plt.show()"
   ]
  },
  {
   "cell_type": "markdown",
   "id": "engaging-delivery",
   "metadata": {},
   "source": [
    "### Classification with PyTorch and the `CircuitQNN`\n",
    "\n",
    "Linking an `CircuitQNN` to PyTorch requires the correct setup, otherwise backpropagation is not possible."
   ]
  },
  {
   "cell_type": "code",
   "execution_count": 7,
   "id": "experimental-alaska",
   "metadata": {},
   "outputs": [],
   "source": [
    "feature_map = ZZFeatureMap(num_inputs)\n",
    "var_form = RealAmplitudes(num_inputs, entanglement='linear', reps=1)\n",
    "\n",
    "qc = QuantumCircuit(num_inputs)\n",
    "qc.append(feature_map, range(num_inputs))\n",
    "qc.append(var_form, range(num_inputs))\n",
    "\n",
    "parity = lambda x: np.sum(x) % 2\n",
    "\n",
    "qnn2 = CircuitQNN(qc, input_params=feature_map.parameters, weight_params=var_form.parameters, \n",
    "                        interpret=parity, dense=True, output_shape=2, quantum_instance=qi)\n",
    "\n",
    "# set up PyTorch module\n",
    "model2 = TorchConnector(qnn2)"
   ]
  },
  {
   "cell_type": "code",
   "execution_count": 8,
   "id": "ranking-superintendent",
   "metadata": {},
   "outputs": [
    {
     "data": {
      "text/plain": [
       "tensor([[0.3097, 0.6903]], grad_fn=<_TorchNNFunctionBackward>)"
      ]
     },
     "execution_count": 8,
     "metadata": {},
     "output_type": "execute_result"
    }
   ],
   "source": [
    "# test with a single input\n",
    "x = Tensor(X[0, :])\n",
    "model2(x)"
   ]
  },
  {
   "cell_type": "code",
   "execution_count": 9,
   "id": "headed-illinois",
   "metadata": {},
   "outputs": [
    {
     "name": "stdout",
     "output_type": "stream",
     "text": [
      "14.792081832885742\n",
      "14.190685272216797\n",
      "13.768144607543945\n",
      "13.304940223693848\n",
      "13.492995262145996\n",
      "12.808493614196777\n",
      "13.061164855957031\n",
      "12.763443946838379\n",
      "12.758014678955078\n",
      "12.754119873046875\n",
      "12.737550735473633\n",
      "12.735100746154785\n",
      "12.734943389892578\n",
      "12.734925270080566\n",
      "12.734925270080566\n"
     ]
    },
    {
     "data": {
      "text/plain": [
       "tensor(14.7921, grad_fn=<AddBackward0>)"
      ]
     },
     "execution_count": 9,
     "metadata": {},
     "output_type": "execute_result"
    }
   ],
   "source": [
    "# define model, optimizer, and loss\n",
    "optimizer = LBFGS(model2.parameters())\n",
    "f_loss = CrossEntropyLoss()\n",
    "\n",
    "# start training\n",
    "model2.train()\n",
    "    \n",
    "def closure():\n",
    "    optimizer.zero_grad(set_to_none=True)                  # initialize gradient\n",
    "    \n",
    "    loss = 0.0                                             # initialize loss    \n",
    "    for x, y_target in zip(X, y01):                        # evaluate batch loss\n",
    "        output = model2(Tensor(x))                         # forward pass\n",
    "        loss += f_loss(output, Tensor([y_target]).long())  # calculate loss\n",
    "        \n",
    "    loss.backward()                                        # backward pass\n",
    "    \n",
    "    print(loss.item())                                     # print loss\n",
    "    return loss\n",
    "\n",
    "# run optimizer (LBFGS requires closure)\n",
    "optimizer.step(closure)"
   ]
  },
  {
   "cell_type": "code",
   "execution_count": 10,
   "id": "front-jordan",
   "metadata": {},
   "outputs": [
    {
     "name": "stdout",
     "output_type": "stream",
     "text": [
      "Accuracy: 0.7\n"
     ]
    },
    {
     "data": {
      "image/png": "[encoded data removed]",
      "text/plain": [
       "<Figure size 432x288 with 1 Axes>"
      ]
     },
     "metadata": {
      "needs_background": "light"
     },
     "output_type": "display_data"
    }
   ],
   "source": [
    "# evaluate model and compute accuracy\n",
    "y_predict = []\n",
    "for x in X:\n",
    "    output = model2(Tensor(x))\n",
    "    y_predict += [np.argmax(output.detach().numpy())]\n",
    "\n",
    "print('Accuracy:', sum(y_predict == y01)/len(y01))\n",
    "\n",
    "# plot results\n",
    "# red == wrongly classified\n",
    "for x, y_target, y_ in zip(X, y01, y_predict):\n",
    "    if y_target == 1:\n",
    "        plt.plot(x[0], x[1], 'bo')\n",
    "    else:\n",
    "        plt.plot(x[0], x[1], 'go')\n",
    "    if y_target != y_:\n",
    "        plt.scatter(x[0], x[1], s=200, facecolors='none', edgecolors='r', linewidths=2)\n",
    "plt.plot([-1, 1], [1, -1], '--', color='black')\n",
    "plt.show()"
   ]
  },
  {
   "cell_type": "markdown",
   "id": "beautiful-sound",
   "metadata": {},
   "source": [
    "## Regression \n",
    "\n",
    "We use a model based on the `TwoLayerQNN` to also illsutrate an regression task."
   ]
  },
  {
   "cell_type": "code",
   "execution_count": 11,
   "id": "terminal-universe",
   "metadata": {},
   "outputs": [
    {
     "data": {
      "image/png": "[encoded data removed]",
      "text/plain": [
       "<Figure size 432x288 with 1 Axes>"
      ]
     },
     "metadata": {
      "needs_background": "light"
     },
     "output_type": "display_data"
    }
   ],
   "source": [
    "num_samples = 20\n",
    "eps = 0.2\n",
    "lb, ub = -np.pi, np.pi\n",
    "f = lambda x: np.sin(x)\n",
    "\n",
    "X = (ub - lb)*np.random.rand(num_samples, 1) + lb\n",
    "y = f(X) + eps*(2*np.random.rand(num_samples, 1)-1)\n",
    "plt.plot(np.linspace(lb, ub), f(np.linspace(lb, ub)), 'r--')\n",
    "plt.plot(X, y, 'bo')\n",
    "plt.show()"
   ]
  },
  {
   "cell_type": "code",
   "execution_count": 12,
   "id": "contemporary-cancellation",
   "metadata": {},
   "outputs": [
    {
     "name": "stdout",
     "output_type": "stream",
     "text": [
      "ComposedOp([\n",
      "  OperatorMeasurement(1.0 * Z),\n",
      "  CircuitStateFn(\n",
      "       ┌───────┐┌───────┐\n",
      "  q_0: ┤ fm(x) ├┤ vf(y) ├\n",
      "       └───────┘└───────┘\n",
      "  )\n",
      "])\n"
     ]
    }
   ],
   "source": [
    "# construct simple feature map\n",
    "param_x = Parameter('x')\n",
    "feature_map = QuantumCircuit(1, name='fm')\n",
    "feature_map.ry(param_x, 0)\n",
    "\n",
    "# construct simple feature map\n",
    "param_y = Parameter('y')\n",
    "var_form = QuantumCircuit(1, name='vf')\n",
    "var_form.ry(param_y, 0)\n",
    "\n",
    "# construct QNN\n",
    "qnn3 = TwoLayerQNN(1, feature_map, var_form, quantum_instance=qi)\n",
    "print(qnn3.operator)\n",
    "\n",
    "# set up PyTorch module\n",
    "model3 = TorchConnector(qnn3)"
   ]
  },
  {
   "cell_type": "code",
   "execution_count": 13,
   "id": "antique-bridal",
   "metadata": {},
   "outputs": [
    {
     "name": "stdout",
     "output_type": "stream",
     "text": [
      "36.351078033447266\n",
      "20.08730697631836\n",
      "1.7611143589019775\n",
      "2.553478717803955\n",
      "3.7583658695220947\n",
      "38.7161979675293\n",
      "0.24585051834583282\n",
      "1.2807297706604004\n",
      "0.23578330874443054\n",
      "0.23578152060508728\n",
      "0.23578153550624847\n"
     ]
    },
    {
     "data": {
      "text/plain": [
       "tensor([36.3511], grad_fn=<AddBackward0>)"
      ]
     },
     "execution_count": 13,
     "metadata": {},
     "output_type": "execute_result"
    }
   ],
   "source": [
    "# define model and optimizer\n",
    "optimizer = LBFGS(model3.parameters())\n",
    "\n",
    "# start training\n",
    "model3.train()   # set model to training mode\n",
    "\n",
    "# define objective function\n",
    "def closure():\n",
    "    optimizer.zero_grad(set_to_none=True)  # initialize gradient\n",
    "    \n",
    "    loss = 0.0                             # initialize loss\n",
    "    for x, y_target in zip(X, y):          # compute batch loss\n",
    "        output = model3(Tensor(x))         # forward pass\n",
    "        loss += (output - y_target[0])**2  # calculate loss\n",
    "        \n",
    "    loss.backward()                        # backward pass\n",
    "    \n",
    "    print(loss.item())                     # print loss\n",
    "    return loss\n",
    "\n",
    "# run optimizer\n",
    "optimizer.step(closure)"
   ]
  },
  {
   "cell_type": "code",
   "execution_count": 14,
   "id": "frequent-bullet",
   "metadata": {},
   "outputs": [
    {
     "data": {
      "image/png": "[encoded data removed]",
      "text/plain": [
       "<Figure size 432x288 with 1 Axes>"
      ]
     },
     "metadata": {
      "needs_background": "light"
     },
     "output_type": "display_data"
    }
   ],
   "source": [
    "# plot target function\n",
    "plt.plot(np.linspace(lb, ub), f(np.linspace(lb, ub)), 'r--')\n",
    "\n",
    "# plot data\n",
    "plt.plot(X, y, 'bo')\n",
    "\n",
    "# plot fitted line\n",
    "y_ = []\n",
    "for x in np.linspace(lb, ub):\n",
    "    output = model3(Tensor([x]))\n",
    "    y_ += [output.detach().numpy()[0]]\n",
    "plt.plot(np.linspace(lb, ub), y_, 'g-')\n",
    "plt.show()"
   ]
  },
  {
   "cell_type": "markdown",
   "id": "nuclear-italy",
   "metadata": {},
   "source": [
    "# Part 2: MNIST Example"
   ]
  },
  {
   "cell_type": "code",
   "execution_count": 15,
   "id": "checked-rates",
   "metadata": {},
   "outputs": [],
   "source": [
    "# TODO"
   ]
  },
  {
   "cell_type": "code",
   "execution_count": null,
   "id": "explicit-antique",
   "metadata": {},
   "outputs": [],
   "source": []
  }
 ],
 "metadata": {
  "kernelspec": {
   "display_name": "Python [conda env:qiskit-ml] *",
   "language": "python",
   "name": "conda-env-qiskit-ml-py"
  },
  "language_info": {
   "codemirror_mode": {
    "name": "ipython",
    "version": 3
   },
   "file_extension": ".py",
   "mimetype": "text/x-python",
   "name": "python",
   "nbconvert_exporter": "python",
   "pygments_lexer": "ipython3",
   "version": "3.8.8"
  }
 },
 "nbformat": 4,
 "nbformat_minor": 5
}
