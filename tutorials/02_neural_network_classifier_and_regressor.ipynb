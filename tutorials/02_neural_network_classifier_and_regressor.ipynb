{
 "cells": [
  {
   "cell_type": "markdown",
   "id": "continuous-surgeon",
   "metadata": {},
   "source": [
    "# Neural Network Classifier & Regressor"
   ]
  },
  {
   "cell_type": "code",
   "execution_count": 1,
   "id": "shaped-threat",
   "metadata": {},
   "outputs": [],
   "source": [
    "# ... Generic + VQC / VQR"
   ]
  },
  {
   "cell_type": "code",
   "execution_count": null,
   "id": "black-secretariat",
   "metadata": {},
   "outputs": [],
   "source": []
  }
 ],
 "metadata": {
  "kernelspec": {
   "display_name": "Python 3",
   "language": "python",
   "name": "python3"
  },
  "language_info": {
   "codemirror_mode": {
    "name": "ipython",
    "version": 3
   },
   "file_extension": ".py",
   "mimetype": "text/x-python",
   "name": "python",
   "nbconvert_exporter": "python",
   "pygments_lexer": "ipython3",
   "version": "3.7.9"
  }
 },
 "nbformat": 4,
 "nbformat_minor": 5
}
