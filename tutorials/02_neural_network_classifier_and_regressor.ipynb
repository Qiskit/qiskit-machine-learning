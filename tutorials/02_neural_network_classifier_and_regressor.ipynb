{
 "cells": [
  {
   "cell_type": "markdown",
   "id": "warming-phase",
   "metadata": {},
   "source": [
    "# Neural Network Classifier & Regressor"
   ]
  },
  {
   "cell_type": "code",
   "execution_count": 1,
   "id": "given-jesus",
   "metadata": {},
   "outputs": [],
   "source": [
    "import numpy as np\n",
    "import matplotlib.pyplot as plt\n",
    "\n",
    "from qiskit import Aer, QuantumCircuit\n",
    "from qiskit.opflow import Z, I, StateFn\n",
    "from qiskit.utils import QuantumInstance\n",
    "from qiskit.circuit.library import RealAmplitudes, ZZFeatureMap\n",
    "from qiskit.algorithms.optimizers import L_BFGS_B\n",
    "from qiskit_machine_learning.neural_networks import TwoLayerQNN, CircuitQNN\n",
    "from qiskit_machine_learning.algorithms.classifiers import NeuralNetworkClassifier\n",
    "\n",
    "from typing import Union\n",
    "from qiskit.algorithms.optimizers import L_BFGS_B, COBYLA\n",
    "\n",
    "from qiskit_machine_learning.exceptions import QiskitMachineLearningError"
   ]
  },
  {
   "cell_type": "code",
   "execution_count": 2,
   "id": "accessible-packaging",
   "metadata": {},
   "outputs": [],
   "source": [
    "quantum_instance = QuantumInstance(Aer.get_backend('statevector_simulator'))"
   ]
  },
  {
   "cell_type": "markdown",
   "id": "bacterial-thing",
   "metadata": {},
   "source": [
    "## Classification"
   ]
  },
  {
   "cell_type": "code",
   "execution_count": 3,
   "id": "amber-referral",
   "metadata": {},
   "outputs": [
    {
     "data": {
      "image/png": "[encoded data removed]",
      "text/plain": [
       "<Figure size 432x288 with 1 Axes>"
      ]
     },
     "metadata": {
      "needs_background": "light"
     },
     "output_type": "display_data"
    }
   ],
   "source": [
    "num_inputs = 2\n",
    "num_samples = 20\n",
    "X = 2*np.random.rand(num_samples, num_inputs) - 1\n",
    "y01 = 1*(np.sum(X, axis=1) >= 0)  # in { 0,  1}\n",
    "y = 2*y01-1                       # in {-1, +1}\n",
    "\n",
    "for x, y_target in zip(X, y):\n",
    "    if y_target == 1:\n",
    "        plt.plot(x[0], x[1], 'bo')\n",
    "    else:\n",
    "        plt.plot(x[0], x[1], 'go')\n",
    "plt.plot([-1, 1], [1, -1], '--', color='black')\n",
    "plt.show()"
   ]
  },
  {
   "cell_type": "markdown",
   "id": "designing-naples",
   "metadata": {},
   "source": [
    "### Classification with the an `OpflowQNN`"
   ]
  },
  {
   "cell_type": "code",
   "execution_count": 4,
   "id": "occupational-bulgarian",
   "metadata": {},
   "outputs": [],
   "source": [
    "# construct QNN\n",
    "opflow_qnn = TwoLayerQNN(num_inputs, quantum_instance=quantum_instance)"
   ]
  },
  {
   "cell_type": "code",
   "execution_count": 5,
   "id": "lightweight-merchant",
   "metadata": {},
   "outputs": [
    {
     "data": {
      "text/plain": [
       "array([[-0.19219741]])"
      ]
     },
     "execution_count": 5,
     "metadata": {},
     "output_type": "execute_result"
    }
   ],
   "source": [
    "# QNN maps inputs to [-1, +1]\n",
    "opflow_qnn.forward(X[0, :], np.random.rand(opflow_qnn.num_weights))"
   ]
  },
  {
   "cell_type": "code",
   "execution_count": 6,
   "id": "specified-youth",
   "metadata": {},
   "outputs": [],
   "source": [
    "# construct neural network classifier\n",
    "opflow_classifier = NeuralNetworkClassifier(opflow_qnn, optimizer=L_BFGS_B())"
   ]
  },
  {
   "cell_type": "code",
   "execution_count": 7,
   "id": "federal-hanging",
   "metadata": {
    "scrolled": false
   },
   "outputs": [
    {
     "name": "stdout",
     "output_type": "stream",
     "text": [
      "(array([-0.1339697 ,  1.33890762,  0.30209517,  1.31090456,  0.26760587,\n",
      "        1.51343104, -0.42589472,  0.08744876]), 11.874985311649343, 16)\n"
     ]
    }
   ],
   "source": [
    "# fit classifier to data\n",
    "opflow_classifier.fit(X, y)\n",
    "\n",
    "# print results from fitting\n",
    "print(opflow_classifier._fit_result)"
   ]
  },
  {
   "cell_type": "code",
   "execution_count": 8,
   "id": "connected-pittsburgh",
   "metadata": {},
   "outputs": [
    {
     "data": {
      "text/plain": [
       "0.85"
      ]
     },
     "execution_count": 8,
     "metadata": {},
     "output_type": "execute_result"
    }
   ],
   "source": [
    "# score classifier\n",
    "opflow_classifier.score(X, y)"
   ]
  },
  {
   "cell_type": "code",
   "execution_count": 9,
   "id": "covered-english",
   "metadata": {},
   "outputs": [],
   "source": [
    "# plot results"
   ]
  },
  {
   "cell_type": "markdown",
   "id": "muslim-person",
   "metadata": {},
   "source": [
    "### Classification with a `CircuitQNN`"
   ]
  },
  {
   "cell_type": "code",
   "execution_count": 10,
   "id": "higher-benefit",
   "metadata": {},
   "outputs": [
    {
     "data": {
      "image/png": "[encoded data removed]",
      "text/plain": [
       "<Figure size 1109.85x144.48 with 1 Axes>"
      ]
     },
     "execution_count": 10,
     "metadata": {},
     "output_type": "execute_result"
    }
   ],
   "source": [
    "# construct feature map\n",
    "feature_map = ZZFeatureMap(num_inputs)\n",
    "\n",
    "# construct variational form\n",
    "var_form = RealAmplitudes(num_inputs, reps=1)\n",
    "\n",
    "# construct quantum circuit\n",
    "qc = QuantumCircuit(num_inputs)\n",
    "qc.append(feature_map, range(num_inputs))\n",
    "qc.append(var_form, range(num_inputs))\n",
    "qc.decompose().draw(output='mpl')"
   ]
  },
  {
   "cell_type": "code",
   "execution_count": 11,
   "id": "chemical-course",
   "metadata": {},
   "outputs": [],
   "source": [
    "# parity maps bitstrings to 0 or 1\n",
    "def parity(x):\n",
    "    return '{:b}'.format(x).count('1') % 2\n",
    "output_shape = 2"
   ]
  },
  {
   "cell_type": "code",
   "execution_count": 12,
   "id": "front-passing",
   "metadata": {},
   "outputs": [],
   "source": [
    "# construct QNN\n",
    "circuit_qnn = CircuitQNN(qc, input_params=feature_map.parameters,\n",
    "                         weight_params=var_form.parameters,\n",
    "                         interpret=parity,\n",
    "                         output_shape=output_shape,\n",
    "                         quantum_instance=quantum_instance)"
   ]
  },
  {
   "cell_type": "code",
   "execution_count": 13,
   "id": "intellectual-fleet",
   "metadata": {},
   "outputs": [],
   "source": [
    "# construct classifier\n",
    "circuit_classifier = NeuralNetworkClassifier(circuit_qnn, optimizer=COBYLA())"
   ]
  },
  {
   "cell_type": "code",
   "execution_count": 14,
   "id": "excessive-negative",
   "metadata": {},
   "outputs": [
    {
     "name": "stdout",
     "output_type": "stream",
     "text": [
      "(array([-0.16893593, -0.64820979,  0.67807974,  1.23828635]), 7.225690660137013, 93)\n"
     ]
    }
   ],
   "source": [
    "# fit classifier to data\n",
    "circuit_classifier.fit(X, y01)\n",
    "\n",
    "# print results from fitting\n",
    "print(circuit_classifier._fit_result)"
   ]
  },
  {
   "cell_type": "code",
   "execution_count": 15,
   "id": "prostate-wrist",
   "metadata": {},
   "outputs": [
    {
     "data": {
      "text/plain": [
       "0.8"
      ]
     },
     "execution_count": 15,
     "metadata": {},
     "output_type": "execute_result"
    }
   ],
   "source": [
    "# score classifier\n",
    "circuit_classifier.score(X, y01)"
   ]
  },
  {
   "cell_type": "code",
   "execution_count": 16,
   "id": "involved-tribute",
   "metadata": {},
   "outputs": [],
   "source": [
    "# plot results"
   ]
  },
  {
   "cell_type": "markdown",
   "id": "distant-technician",
   "metadata": {},
   "source": [
    "### Variational Quantum Classifier"
   ]
  },
  {
   "cell_type": "code",
   "execution_count": 17,
   "id": "demanding-target",
   "metadata": {},
   "outputs": [],
   "source": [
    "# show how CircuitQNN links to VQC..."
   ]
  },
  {
   "cell_type": "markdown",
   "id": "collected-restaurant",
   "metadata": {},
   "source": [
    "## Regression"
   ]
  },
  {
   "cell_type": "code",
   "execution_count": 18,
   "id": "broken-seller",
   "metadata": {},
   "outputs": [],
   "source": [
    "# show how to use OpflowQNN to do regression... same example as for TorchConnector"
   ]
  },
  {
   "cell_type": "code",
   "execution_count": null,
   "id": "roman-maryland",
   "metadata": {},
   "outputs": [],
   "source": []
  }
 ],
 "metadata": {
  "kernelspec": {
   "display_name": "Python [conda env:qiskit-ml] *",
   "language": "python",
   "name": "conda-env-qiskit-ml-py"
  },
  "language_info": {
   "codemirror_mode": {
    "name": "ipython",
    "version": 3
   },
   "file_extension": ".py",
   "mimetype": "text/x-python",
   "name": "python",
   "nbconvert_exporter": "python",
   "pygments_lexer": "ipython3",
   "version": "3.8.8"
  }
 },
 "nbformat": 4,
 "nbformat_minor": 5
}
