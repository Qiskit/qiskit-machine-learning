{
 "cells": [
  {
   "cell_type": "markdown",
   "id": "burning-america",
   "metadata": {},
   "source": [
    "# Neural Network Classifier & Regressor"
   ]
  },
  {
   "cell_type": "code",
   "execution_count": 1,
   "id": "rental-street",
   "metadata": {},
   "outputs": [],
   "source": []
  },
  {
   "cell_type": "code",
   "execution_count": null,
   "id": "initial-oracle",
   "metadata": {},
   "outputs": [],
   "source": []
  }
 ],
 "metadata": {
  "kernelspec": {
   "display_name": "Python [conda env:qiskit-ml] *",
   "language": "python",
   "name": "conda-env-qiskit-ml-py"
  },
  "language_info": {
   "codemirror_mode": {
    "name": "ipython",
    "version": 3
   },
   "file_extension": ".py",
   "mimetype": "text/x-python",
   "name": "python",
   "nbconvert_exporter": "python",
   "pygments_lexer": "ipython3",
   "version": "3.8.8"
  }
 },
 "nbformat": 4,
 "nbformat_minor": 5
}
