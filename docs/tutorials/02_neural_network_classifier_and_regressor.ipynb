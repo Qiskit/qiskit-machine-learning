{
 "cells": [
  {
   "cell_type": "markdown",
   "id": "warming-phase",
   "metadata": {},
   "source": [
    "# Neural Network Classifier & Regressor\n",
    "\n",
    "In this tutorial we show how the `NeuralNetworkClassifier` and `NeuralNetworkRegressor` are used.\n",
    "Both take as an input a (Quantum) `NeuralNetwork` and leverage it in a specific context.\n",
    "In both cases we also provide a pre-configured variant for convenience, the Variational Quantum Classifier (`VQC`) and Variational Quantum Regressor (`VQR`)."
   ]
  },
  {
   "cell_type": "code",
   "execution_count": 1,
   "id": "given-jesus",
   "metadata": {},
   "outputs": [],
   "source": [
    "import numpy as np\n",
    "import matplotlib.pyplot as plt\n",
    "\n",
    "from qiskit import Aer, QuantumCircuit\n",
    "from qiskit.opflow import Z, I, StateFn\n",
    "from qiskit.utils import QuantumInstance\n",
    "from qiskit.circuit.library import RealAmplitudes, ZZFeatureMap\n",
    "from qiskit.algorithms.optimizers import L_BFGS_B\n",
    "from qiskit_machine_learning.neural_networks import TwoLayerQNN, CircuitQNN\n",
    "from qiskit_machine_learning.algorithms.classifiers import NeuralNetworkClassifier, VQC\n",
    "\n",
    "from typing import Union\n",
    "from qiskit.algorithms.optimizers import L_BFGS_B, COBYLA\n",
    "\n",
    "from qiskit_machine_learning.exceptions import QiskitMachineLearningError"
   ]
  },
  {
   "cell_type": "code",
   "execution_count": 2,
   "id": "accessible-packaging",
   "metadata": {},
   "outputs": [],
   "source": [
    "quantum_instance = QuantumInstance(Aer.get_backend('statevector_simulator'))"
   ]
  },
  {
   "cell_type": "markdown",
   "id": "bacterial-thing",
   "metadata": {},
   "source": [
    "## Classification\n",
    "\n",
    "We prepare a simple classification dataset to illustrate the following algorithms."
   ]
  },
  {
   "cell_type": "code",
   "execution_count": 3,
   "id": "amber-referral",
   "metadata": {},
   "outputs": [
    {
     "data": {
      "image/png": "[encoded data removed]",
      "text/plain": [
       "<Figure size 432x288 with 1 Axes>"
      ]
     },
     "metadata": {
      "needs_background": "light"
     },
     "output_type": "display_data"
    }
   ],
   "source": [
    "num_inputs = 2\n",
    "num_samples = 20\n",
    "X = 2*np.random.rand(num_samples, num_inputs) - 1\n",
    "y01 = 1*(np.sum(X, axis=1) >= 0)  # in { 0,  1}\n",
    "y = 2*y01-1                       # in {-1, +1}\n",
    "y_one_hot = np.zeros((num_samples, 2))\n",
    "for i in range(num_samples):\n",
    "    y_one_hot[i, y01[i]] = 1\n",
    "\n",
    "for x, y_target in zip(X, y):\n",
    "    if y_target == 1:\n",
    "        plt.plot(x[0], x[1], 'bo')\n",
    "    else:\n",
    "        plt.plot(x[0], x[1], 'go')\n",
    "plt.plot([-1, 1], [1, -1], '--', color='black')\n",
    "plt.show()"
   ]
  },
  {
   "cell_type": "markdown",
   "id": "designing-naples",
   "metadata": {},
   "source": [
    "### Classification with the an `OpflowQNN`\n",
    "\n",
    "First we show how an `OpflowQNN` can be used for classification within a `NeuralNetworkClassifier`. In this context, the `OpflowQNN` is expected to return one-dimensional output in $[-1, +1]$. This only works for binary classification and we assign the two classes to $\\{-1, +1\\}$. For convenience, we use the `TwoLayerQNN`, which is a special type of `OpflowQNN` defined via a feature map and a variational circuit."
   ]
  },
  {
   "cell_type": "code",
   "execution_count": 4,
   "id": "occupational-bulgarian",
   "metadata": {},
   "outputs": [],
   "source": [
    "# construct QNN\n",
    "opflow_qnn = TwoLayerQNN(num_inputs, quantum_instance=quantum_instance)"
   ]
  },
  {
   "cell_type": "code",
   "execution_count": 5,
   "id": "lightweight-merchant",
   "metadata": {},
   "outputs": [
    {
     "data": {
      "text/plain": [
       "array([[-0.68961251]])"
      ]
     },
     "execution_count": 5,
     "metadata": {},
     "output_type": "execute_result"
    }
   ],
   "source": [
    "# QNN maps inputs to [-1, +1]\n",
    "opflow_qnn.forward(X[0, :], np.random.rand(opflow_qnn.num_weights))"
   ]
  },
  {
   "cell_type": "code",
   "execution_count": 6,
   "id": "specified-youth",
   "metadata": {},
   "outputs": [],
   "source": [
    "# construct neural network classifier\n",
    "opflow_classifier = NeuralNetworkClassifier(opflow_qnn, optimizer=L_BFGS_B())"
   ]
  },
  {
   "cell_type": "code",
   "execution_count": 7,
   "id": "federal-hanging",
   "metadata": {
    "scrolled": false
   },
   "outputs": [
    {
     "name": "stdout",
     "output_type": "stream",
     "text": [
      "(array([-0.25937151,  0.33755194, -0.24867579,  1.14803864,  0.49633015,\n",
      "        0.5358841 , -1.15834805, -0.4572757 ]), 8.687988549438066, 20)\n"
     ]
    }
   ],
   "source": [
    "# fit classifier to data\n",
    "opflow_classifier.fit(X, y)\n",
    "\n",
    "# print results from fitting\n",
    "print(opflow_classifier._fit_result)"
   ]
  },
  {
   "cell_type": "code",
   "execution_count": 8,
   "id": "connected-pittsburgh",
   "metadata": {},
   "outputs": [
    {
     "data": {
      "text/plain": [
       "0.95"
      ]
     },
     "execution_count": 8,
     "metadata": {},
     "output_type": "execute_result"
    }
   ],
   "source": [
    "# score classifier\n",
    "opflow_classifier.score(X, y)"
   ]
  },
  {
   "cell_type": "code",
   "execution_count": 9,
   "id": "covered-english",
   "metadata": {},
   "outputs": [
    {
     "data": {
      "image/png": "[encoded data removed]",
      "text/plain": [
       "<Figure size 432x288 with 1 Axes>"
      ]
     },
     "metadata": {
      "needs_background": "light"
     },
     "output_type": "display_data"
    }
   ],
   "source": [
    "# evaluate data points\n",
    "y_predict = opflow_classifier.predict(X)\n",
    "\n",
    "# plot results\n",
    "# red == wrongly classified\n",
    "for x, y_target, y_p in zip(X, y, y_predict):\n",
    "    if y_target == 1:\n",
    "        plt.plot(x[0], x[1], 'bo')\n",
    "    else:\n",
    "        plt.plot(x[0], x[1], 'go')\n",
    "    if y_target != y_p:\n",
    "        plt.scatter(x[0], x[1], s=200, facecolors='none', edgecolors='r', linewidths=2)\n",
    "plt.plot([-1, 1], [1, -1], '--', color='black')\n",
    "plt.show()"
   ]
  },
  {
   "cell_type": "markdown",
   "id": "muslim-person",
   "metadata": {},
   "source": [
    "### Classification with a `CircuitQNN`\n",
    "\n",
    "Next we show how a `CircuitQNN` can be used for classification within a `NeuralNetworkClassifier`. In this context, the `CircuitQNN` is expected to return $d$-dimensional probability vector as output, where $d$ denotes the number of classes. Sampling from a `QuantumCircuit` automatically results in a probability distribution and we just need to define a mapping from the measured bitstrings to the different classes. For binary classification we use the parity mapping."
   ]
  },
  {
   "cell_type": "code",
   "execution_count": 10,
   "id": "higher-benefit",
   "metadata": {},
   "outputs": [
    {
     "data": {
      "image/png": "[encoded data removed]",
      "text/plain": [
       "<Figure size 1109.85x144.48 with 1 Axes>"
      ]
     },
     "execution_count": 10,
     "metadata": {},
     "output_type": "execute_result"
    }
   ],
   "source": [
    "# construct feature map\n",
    "feature_map = ZZFeatureMap(num_inputs)\n",
    "\n",
    "# construct variational form\n",
    "var_form = RealAmplitudes(num_inputs, reps=1)\n",
    "\n",
    "# construct quantum circuit\n",
    "qc = QuantumCircuit(num_inputs)\n",
    "qc.append(feature_map, range(num_inputs))\n",
    "qc.append(var_form, range(num_inputs))\n",
    "qc.decompose().draw(output='mpl')"
   ]
  },
  {
   "cell_type": "code",
   "execution_count": 11,
   "id": "chemical-course",
   "metadata": {},
   "outputs": [],
   "source": [
    "# parity maps bitstrings to 0 or 1\n",
    "def parity(x):\n",
    "    return '{:b}'.format(x).count('1') % 2\n",
    "output_shape = 2  # corresponds to the number of classes, possible outcomes of the (parity) mapping."
   ]
  },
  {
   "cell_type": "code",
   "execution_count": 12,
   "id": "front-passing",
   "metadata": {},
   "outputs": [],
   "source": [
    "# construct QNN\n",
    "circuit_qnn = CircuitQNN(circuit=qc, \n",
    "                         input_params=feature_map.parameters,\n",
    "                         weight_params=var_form.parameters,\n",
    "                         interpret=parity,\n",
    "                         output_shape=output_shape,\n",
    "                         quantum_instance=quantum_instance)"
   ]
  },
  {
   "cell_type": "code",
   "execution_count": 13,
   "id": "intellectual-fleet",
   "metadata": {},
   "outputs": [],
   "source": [
    "# construct classifier\n",
    "circuit_classifier = NeuralNetworkClassifier(neural_network=circuit_qnn,                                             \n",
    "                                             optimizer=COBYLA())"
   ]
  },
  {
   "cell_type": "code",
   "execution_count": 14,
   "id": "excessive-negative",
   "metadata": {},
   "outputs": [
    {
     "name": "stdout",
     "output_type": "stream",
     "text": [
      "(array([-0.06681678,  1.42355899,  2.22649254,  0.72042866]), 5.046969304501151, 84)\n"
     ]
    }
   ],
   "source": [
    "# fit classifier to data\n",
    "circuit_classifier.fit(X, y01)\n",
    "\n",
    "# print results from fitting\n",
    "print(circuit_classifier._fit_result)"
   ]
  },
  {
   "cell_type": "code",
   "execution_count": 15,
   "id": "prostate-wrist",
   "metadata": {},
   "outputs": [
    {
     "data": {
      "text/plain": [
       "0.9"
      ]
     },
     "execution_count": 15,
     "metadata": {},
     "output_type": "execute_result"
    }
   ],
   "source": [
    "# score classifier\n",
    "circuit_classifier.score(X, y01)"
   ]
  },
  {
   "cell_type": "code",
   "execution_count": 16,
   "id": "involved-tribute",
   "metadata": {},
   "outputs": [
    {
     "data": {
      "image/png": "[encoded data removed]",
      "text/plain": [
       "<Figure size 432x288 with 1 Axes>"
      ]
     },
     "metadata": {
      "needs_background": "light"
     },
     "output_type": "display_data"
    }
   ],
   "source": [
    "# evaluate data points\n",
    "y_predict = circuit_classifier.predict(X)\n",
    "\n",
    "# plot results\n",
    "# red == wrongly classified\n",
    "for x, y_target, y_p in zip(X, y01, y_predict):\n",
    "    if y_target == 1:\n",
    "        plt.plot(x[0], x[1], 'bo')\n",
    "    else:\n",
    "        plt.plot(x[0], x[1], 'go')\n",
    "    if y_target != y_p:\n",
    "        plt.scatter(x[0], x[1], s=200, facecolors='none', edgecolors='r', linewidths=2)\n",
    "plt.plot([-1, 1], [1, -1], '--', color='black')\n",
    "plt.show()"
   ]
  },
  {
   "cell_type": "markdown",
   "id": "distant-technician",
   "metadata": {},
   "source": [
    "### Variational Quantum Classifier (`VQC`)\n",
    "\n",
    "The `VQC` is a special variant of the `NeuralNetworkClassifier` with a `CircuitQNN`. It applies a parity mapping (or extensions to multiple classes) to map from the bitstring to the classification, which results in a probability vector, which is interpreted as a one-hot encoded result. By default, it applies this the `CrossEntropyLoss` function that expects labels given in one-hot encoded format and will return predictions in that format too."
   ]
  },
  {
   "cell_type": "code",
   "execution_count": 17,
   "id": "demanding-target",
   "metadata": {},
   "outputs": [],
   "source": [
    "# construct feature map, variational form, and optimizer\n",
    "feature_map = ZZFeatureMap(num_inputs)\n",
    "var_form = RealAmplitudes(num_inputs, reps=1)\n",
    "optimizer = L_BFGS_B()\n",
    "\n",
    "# construct variational quantum classifier\n",
    "vqc = VQC(feature_map=feature_map,\n",
    "          var_form=var_form, \n",
    "          loss='cross_entropy',\n",
    "          optimizer=optimizer, \n",
    "          quantum_instance=quantum_instance)"
   ]
  },
  {
   "cell_type": "code",
   "execution_count": 18,
   "id": "recorded-liberia",
   "metadata": {},
   "outputs": [
    {
     "name": "stdout",
     "output_type": "stream",
     "text": [
      "(array([-0.56815139,  1.41845617,  1.80432205,  0.76293706]), 11.089547897593246, 59)\n"
     ]
    }
   ],
   "source": [
    "# fit classifier to data\n",
    "vqc.fit(X, y_one_hot)\n",
    "\n",
    "# print results from fitting\n",
    "print(vqc._fit_result)"
   ]
  },
  {
   "cell_type": "code",
   "execution_count": 19,
   "id": "chronic-horse",
   "metadata": {},
   "outputs": [
    {
     "data": {
      "text/plain": [
       "0.95"
      ]
     },
     "execution_count": 19,
     "metadata": {},
     "output_type": "execute_result"
    }
   ],
   "source": [
    "# score classifier\n",
    "vqc.score(X, y_one_hot)"
   ]
  },
  {
   "cell_type": "code",
   "execution_count": 20,
   "id": "tired-attitude",
   "metadata": {},
   "outputs": [
    {
     "data": {
      "image/png": "[encoded data removed]",
      "text/plain": [
       "<Figure size 432x288 with 1 Axes>"
      ]
     },
     "metadata": {
      "needs_background": "light"
     },
     "output_type": "display_data"
    }
   ],
   "source": [
    "# evaluate data points\n",
    "y_predict = vqc.predict(X)\n",
    "\n",
    "# plot results\n",
    "# red == wrongly classified\n",
    "for x, y_target, y_p in zip(X, y_one_hot, y_predict):\n",
    "    if y_target[0] == 1:\n",
    "        plt.plot(x[0], x[1], 'bo')\n",
    "    else:\n",
    "        plt.plot(x[0], x[1], 'go')\n",
    "    if not np.all(y_target == y_p):\n",
    "        plt.scatter(x[0], x[1], s=200, facecolors='none', edgecolors='r', linewidths=2)\n",
    "plt.plot([-1, 1], [1, -1], '--', color='black')\n",
    "plt.show()"
   ]
  },
  {
   "cell_type": "markdown",
   "id": "collected-restaurant",
   "metadata": {},
   "source": [
    "## Regression\n",
    "\n",
    "We prepare a simple regression dataset to illustrate the following algorithms."
   ]
  },
  {
   "cell_type": "code",
   "execution_count": 22,
   "id": "false-fireplace",
   "metadata": {},
   "outputs": [
    {
     "data": {
      "image/png": "[encoded data removed]",
      "text/plain": [
       "<Figure size 432x288 with 1 Axes>"
      ]
     },
     "metadata": {
      "needs_background": "light"
     },
     "output_type": "display_data"
    }
   ],
   "source": [
    "num_samples = 20\n",
    "eps = 0.2\n",
    "lb, ub = -np.pi, np.pi\n",
    "f = lambda x: np.sin(x)\n",
    "\n",
    "X = (ub - lb)*np.random.rand(num_samples, 1) + lb\n",
    "y = f(X) + eps*(2*np.random.rand(num_samples, 1)-1)\n",
    "plt.plot(np.linspace(lb, ub), f(np.linspace(lb, ub)), 'r--')\n",
    "plt.plot(X, y, 'bo')\n",
    "plt.show()"
   ]
  },
  {
   "cell_type": "markdown",
   "id": "adult-latex",
   "metadata": {},
   "source": [
    "### Regression with an `OpflowQNN`\n",
    "\n",
    "Here we restrict to regression with an `OpflowQNN` that returns values in $[-1, +1]$. More complex and also multi-dimensional models could be constructed, also based on `CircuitQNN` but that exceeds the scope of this tutorial."
   ]
  },
  {
   "cell_type": "code",
   "execution_count": null,
   "id": "wound-dining",
   "metadata": {},
   "outputs": [],
   "source": [
    "# construct simple feature map\n",
    "param_x = Parameter('x')\n",
    "feature_map = QuantumCircuit(1, name='fm')\n",
    "feature_map.ry(param_x, 0)\n",
    "\n",
    "# construct simple feature map\n",
    "param_y = Parameter('y')\n",
    "var_form = QuantumCircuit(1, name='vf')\n",
    "var_form.ry(param_y, 0)\n",
    "\n",
    "# construct QNN\n",
    "regression_opflow_qnn = TwoLayerQNN(1, feature_map, var_form, quantum_instance=qi)\n",
    "print(regression_opflow_qnn.operator)"
   ]
  },
  {
   "cell_type": "code",
   "execution_count": null,
   "id": "figured-punch",
   "metadata": {},
   "outputs": [],
   "source": [
    "# TODO: add NeuralNetworkRegressor"
   ]
  },
  {
   "cell_type": "markdown",
   "id": "sunset-moore",
   "metadata": {},
   "source": [
    "### Regression with the Variational Quantum Regressor (`VQR`)\n",
    "\n",
    "Similar to the `VQC` for classification, the `VQR` is a special variant of the `NeuralNetworkRegressor` with a `OpflowQNN`. By default it considers the `L2Loss` function to minimize the mean squared error between predictions and targets."
   ]
  },
  {
   "cell_type": "code",
   "execution_count": null,
   "id": "roman-maryland",
   "metadata": {},
   "outputs": [],
   "source": [
    "# show how VQR works (should use opflow qnn internally)"
   ]
  }
 ],
 "metadata": {
  "kernelspec": {
   "display_name": "Python [conda env:qiskit-ml] *",
   "language": "python",
   "name": "conda-env-qiskit-ml-py"
  },
  "language_info": {
   "codemirror_mode": {
    "name": "ipython",
    "version": 3
   },
   "file_extension": ".py",
   "mimetype": "text/x-python",
   "name": "python",
   "nbconvert_exporter": "python",
   "pygments_lexer": "ipython3",
   "version": "3.8.8"
  }
 },
 "nbformat": 4,
 "nbformat_minor": 5
}
